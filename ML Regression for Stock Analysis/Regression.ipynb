{
 "cells": [
  {
   "cell_type": "markdown",
   "metadata": {},
   "source": [
    "# Polynomial Regression for Stock Valuation with Dividend Discount Model\n",
    "\n",
    "# Contents\n",
    "* Introduction\n",
    "* Dataset\n"
   ]
  },
  {
   "cell_type": "markdown",
   "metadata": {},
   "source": [
    "# Introduction\n",
    "\n",
    "The Dividend Discount Model is a method to calculate the fair share price of a stock. This model uses the dividend growth rate and cost of equity to calculate the fair share price of Apple stock. In this project, I implemented regression with one variable to predict the dividend growth rate. I also implemented regression to predict future stock prices. This program could be used to inform investors when to buy or sell Apple stock based on whether the stock is expected to be above or below the fair share price.\n",
    "\n",
    "The content for this project was derived from Andrew Ng's Machine Learning course and Bekhruzbek Ochilov's Stock Valuation (using the Dividend Discount Model) from Coursera."
   ]
  },
  {
   "cell_type": "code",
   "execution_count": 4,
   "metadata": {},
   "outputs": [
    {
     "name": "stdout",
     "output_type": "stream",
     "text": [
      "Requirement already satisfied: yfinance in /opt/anaconda3/lib/python3.8/site-packages (0.1.74)\n",
      "Requirement already satisfied: multitasking>=0.0.7 in /opt/anaconda3/lib/python3.8/site-packages (from yfinance) (0.0.11)\n",
      "Requirement already satisfied: numpy>=1.15 in /opt/anaconda3/lib/python3.8/site-packages (from yfinance) (1.19.2)\n",
      "Requirement already satisfied: lxml>=4.5.1 in /opt/anaconda3/lib/python3.8/site-packages (from yfinance) (4.6.1)\n",
      "Requirement already satisfied: pandas>=0.24.0 in /opt/anaconda3/lib/python3.8/site-packages (from yfinance) (1.1.3)\n",
      "Requirement already satisfied: requests>=2.26 in /opt/anaconda3/lib/python3.8/site-packages (from yfinance) (2.28.1)\n",
      "Requirement already satisfied: python-dateutil>=2.7.3 in /opt/anaconda3/lib/python3.8/site-packages (from pandas>=0.24.0->yfinance) (2.8.1)\n",
      "Requirement already satisfied: pytz>=2017.2 in /opt/anaconda3/lib/python3.8/site-packages (from pandas>=0.24.0->yfinance) (2020.1)\n",
      "Requirement already satisfied: certifi>=2017.4.17 in /opt/anaconda3/lib/python3.8/site-packages (from requests>=2.26->yfinance) (2020.6.20)\n",
      "Requirement already satisfied: urllib3<1.27,>=1.21.1 in /opt/anaconda3/lib/python3.8/site-packages (from requests>=2.26->yfinance) (1.25.11)\n",
      "Requirement already satisfied: idna<4,>=2.5 in /opt/anaconda3/lib/python3.8/site-packages (from requests>=2.26->yfinance) (2.10)\n",
      "Requirement already satisfied: charset-normalizer<3,>=2 in /opt/anaconda3/lib/python3.8/site-packages (from requests>=2.26->yfinance) (2.1.1)\n",
      "Requirement already satisfied: six>=1.5 in /opt/anaconda3/lib/python3.8/site-packages (from python-dateutil>=2.7.3->pandas>=0.24.0->yfinance) (1.15.0)\n",
      "Note: you may need to restart the kernel to use updated packages.\n"
     ]
    }
   ],
   "source": [
    "%pip install yfinance\n",
    "\n",
    "import numpy as np\n",
    "import pandas as pd\n",
    "import matplotlib.pyplot as plt\n",
    "import copy\n",
    "import math\n",
    "import time\n",
    "import datetime\n",
    "import yfinance as yf\n",
    "\n",
    "%matplotlib inline"
   ]
  },
  {
   "cell_type": "markdown",
   "metadata": {},
   "source": [
    "# Dataset\n",
    "\n",
    "**Retreiving Data**\n",
    "\n",
    "I began by loading the raw data using the yfinance library. I then displayed the available historical data from yahoo about apple stock."
   ]
  },
  {
   "cell_type": "code",
   "execution_count": 5,
   "metadata": {},
   "outputs": [
    {
     "data": {
      "text/html": [
       "<div>\n",
       "<style scoped>\n",
       "    .dataframe tbody tr th:only-of-type {\n",
       "        vertical-align: middle;\n",
       "    }\n",
       "\n",
       "    .dataframe tbody tr th {\n",
       "        vertical-align: top;\n",
       "    }\n",
       "\n",
       "    .dataframe thead th {\n",
       "        text-align: right;\n",
       "    }\n",
       "</style>\n",
       "<table border=\"1\" class=\"dataframe\">\n",
       "  <thead>\n",
       "    <tr style=\"text-align: right;\">\n",
       "      <th></th>\n",
       "      <th>Open</th>\n",
       "      <th>High</th>\n",
       "      <th>Low</th>\n",
       "      <th>Close</th>\n",
       "      <th>Volume</th>\n",
       "      <th>Dividends</th>\n",
       "      <th>Stock Splits</th>\n",
       "    </tr>\n",
       "    <tr>\n",
       "      <th>Date</th>\n",
       "      <th></th>\n",
       "      <th></th>\n",
       "      <th></th>\n",
       "      <th></th>\n",
       "      <th></th>\n",
       "      <th></th>\n",
       "      <th></th>\n",
       "    </tr>\n",
       "  </thead>\n",
       "  <tbody>\n",
       "    <tr>\n",
       "      <th>2013-01-01</th>\n",
       "      <td>17.038160</td>\n",
       "      <td>17.074463</td>\n",
       "      <td>15.850024</td>\n",
       "      <td>16.117678</td>\n",
       "      <td>1.991973e+09</td>\n",
       "      <td>0.0</td>\n",
       "      <td>0.0</td>\n",
       "    </tr>\n",
       "    <tr>\n",
       "      <th>2013-01-08</th>\n",
       "      <td>16.281040</td>\n",
       "      <td>16.363490</td>\n",
       "      <td>15.336562</td>\n",
       "      <td>15.436240</td>\n",
       "      <td>2.552172e+09</td>\n",
       "      <td>0.0</td>\n",
       "      <td>0.0</td>\n",
       "    </tr>\n",
       "    <tr>\n",
       "      <th>2013-01-15</th>\n",
       "      <td>15.330099</td>\n",
       "      <td>15.713121</td>\n",
       "      <td>14.871088</td>\n",
       "      <td>15.382400</td>\n",
       "      <td>2.494178e+09</td>\n",
       "      <td>0.0</td>\n",
       "      <td>0.0</td>\n",
       "    </tr>\n",
       "    <tr>\n",
       "      <th>2013-01-22</th>\n",
       "      <td>15.522691</td>\n",
       "      <td>15.843568</td>\n",
       "      <td>13.382691</td>\n",
       "      <td>13.838933</td>\n",
       "      <td>4.777452e+09</td>\n",
       "      <td>0.0</td>\n",
       "      <td>0.0</td>\n",
       "    </tr>\n",
       "    <tr>\n",
       "      <th>2013-01-29</th>\n",
       "      <td>14.105659</td>\n",
       "      <td>14.231795</td>\n",
       "      <td>13.598039</td>\n",
       "      <td>13.607884</td>\n",
       "      <td>2.324249e+09</td>\n",
       "      <td>0.0</td>\n",
       "      <td>0.0</td>\n",
       "    </tr>\n",
       "    <tr>\n",
       "      <th>...</th>\n",
       "      <td>...</td>\n",
       "      <td>...</td>\n",
       "      <td>...</td>\n",
       "      <td>...</td>\n",
       "      <td>...</td>\n",
       "      <td>...</td>\n",
       "      <td>...</td>\n",
       "    </tr>\n",
       "    <tr>\n",
       "      <th>2022-08-09</th>\n",
       "      <td>164.020004</td>\n",
       "      <td>173.389999</td>\n",
       "      <td>163.250000</td>\n",
       "      <td>173.190002</td>\n",
       "      <td>3.125863e+08</td>\n",
       "      <td>0.0</td>\n",
       "      <td>0.0</td>\n",
       "    </tr>\n",
       "    <tr>\n",
       "      <th>2022-08-16</th>\n",
       "      <td>172.779999</td>\n",
       "      <td>176.149994</td>\n",
       "      <td>167.139999</td>\n",
       "      <td>167.570007</td>\n",
       "      <td>3.375823e+08</td>\n",
       "      <td>0.0</td>\n",
       "      <td>0.0</td>\n",
       "    </tr>\n",
       "    <tr>\n",
       "      <th>2022-08-23</th>\n",
       "      <td>167.080002</td>\n",
       "      <td>171.050003</td>\n",
       "      <td>159.820007</td>\n",
       "      <td>161.380005</td>\n",
       "      <td>3.114818e+08</td>\n",
       "      <td>0.0</td>\n",
       "      <td>0.0</td>\n",
       "    </tr>\n",
       "    <tr>\n",
       "      <th>2022-08-30</th>\n",
       "      <td>162.130005</td>\n",
       "      <td>162.559998</td>\n",
       "      <td>154.669998</td>\n",
       "      <td>155.809998</td>\n",
       "      <td>3.170324e+08</td>\n",
       "      <td>0.0</td>\n",
       "      <td>0.0</td>\n",
       "    </tr>\n",
       "    <tr>\n",
       "      <th>2022-09-06</th>\n",
       "      <td>156.470001</td>\n",
       "      <td>157.820007</td>\n",
       "      <td>152.679993</td>\n",
       "      <td>157.369995</td>\n",
       "      <td>3.141170e+08</td>\n",
       "      <td>0.0</td>\n",
       "      <td>0.0</td>\n",
       "    </tr>\n",
       "  </tbody>\n",
       "</table>\n",
       "<p>547 rows × 7 columns</p>\n",
       "</div>"
      ],
      "text/plain": [
       "                  Open        High         Low       Close        Volume  \\\n",
       "Date                                                                       \n",
       "2013-01-01   17.038160   17.074463   15.850024   16.117678  1.991973e+09   \n",
       "2013-01-08   16.281040   16.363490   15.336562   15.436240  2.552172e+09   \n",
       "2013-01-15   15.330099   15.713121   14.871088   15.382400  2.494178e+09   \n",
       "2013-01-22   15.522691   15.843568   13.382691   13.838933  4.777452e+09   \n",
       "2013-01-29   14.105659   14.231795   13.598039   13.607884  2.324249e+09   \n",
       "...                ...         ...         ...         ...           ...   \n",
       "2022-08-09  164.020004  173.389999  163.250000  173.190002  3.125863e+08   \n",
       "2022-08-16  172.779999  176.149994  167.139999  167.570007  3.375823e+08   \n",
       "2022-08-23  167.080002  171.050003  159.820007  161.380005  3.114818e+08   \n",
       "2022-08-30  162.130005  162.559998  154.669998  155.809998  3.170324e+08   \n",
       "2022-09-06  156.470001  157.820007  152.679993  157.369995  3.141170e+08   \n",
       "\n",
       "            Dividends  Stock Splits  \n",
       "Date                                 \n",
       "2013-01-01        0.0           0.0  \n",
       "2013-01-08        0.0           0.0  \n",
       "2013-01-15        0.0           0.0  \n",
       "2013-01-22        0.0           0.0  \n",
       "2013-01-29        0.0           0.0  \n",
       "...               ...           ...  \n",
       "2022-08-09        0.0           0.0  \n",
       "2022-08-16        0.0           0.0  \n",
       "2022-08-23        0.0           0.0  \n",
       "2022-08-30        0.0           0.0  \n",
       "2022-09-06        0.0           0.0  \n",
       "\n",
       "[547 rows x 7 columns]"
      ]
     },
     "execution_count": 5,
     "metadata": {},
     "output_type": "execute_result"
    }
   ],
   "source": [
    "# Define various variables including the stock name, start and end date of data to be stored, and the interval \n",
    "ticker = \"AAPL\"\n",
    "begin = \"2013-01-02\"\n",
    "terminate = \"2022-09-10\"\n",
    "period = \"1wk\"\n",
    "\n",
    "apple = yf.Ticker(f\"{ticker}\")\n",
    "hist = apple.history(start=f\"{begin}\", end=f\"{terminate}\", interval=f\"{period}\")\n",
    "hist\n"
   ]
  },
  {
   "cell_type": "code",
   "execution_count": 6,
   "metadata": {},
   "outputs": [
    {
     "name": "stdout",
     "output_type": "stream",
     "text": [
      "0.22204\n"
     ]
    }
   ],
   "source": [
    "print(apple.info[\"returnOnAssets\"])"
   ]
  },
  {
   "cell_type": "markdown",
   "metadata": {},
   "source": [
    "**Loading the Dataset**\n",
    "\n",
    "I then loaded the relevant data for the task, converting these values into useful ones.\n",
    "* y_train_close is the closing stock value of the corresponding date.\n",
    "* x_train_close is the date of the corresponding Apple stock closing value.\n",
    "* y_train_div is the dividends from the corresponding year.\n",
    "* x_train_div is the year of the corresponding Apple stock dividends value."
   ]
  },
  {
   "cell_type": "code",
   "execution_count": 7,
   "metadata": {},
   "outputs": [
    {
     "name": "stdout",
     "output_type": "stream",
     "text": [
      "547\n"
     ]
    }
   ],
   "source": [
    "# y value closing stock price dataset\n",
    "df1 = hist[\"Close\"]\n",
    "y_train_close = np.array(df1)\n",
    "\n",
    "print(len(y_train_close))"
   ]
  },
  {
   "cell_type": "code",
   "execution_count": 8,
   "metadata": {},
   "outputs": [],
   "source": [
    "data = df1.reset_index()\n",
    "\n",
    "x_train_close = data[\"Date\"]"
   ]
  },
  {
   "cell_type": "code",
   "execution_count": 9,
   "metadata": {},
   "outputs": [
    {
     "name": "stdout",
     "output_type": "stream",
     "text": [
      "[0.42143    0.461429   0.5075     0.5575     0.615      0.705\n",
      " 0.76       0.8075     0.865      0.90666667]\n"
     ]
    }
   ],
   "source": [
    "# store quarterly dividend data in array, luckily there is no need to account for stock splits as yahoo already does that\n",
    "y_train_div_raw = np.array(apple.dividends)\n",
    "\n",
    "raw_period = len(y_train_div_raw)\n",
    "time_period = int(terminate[0:4]) - int(begin[0:4]) + 1\n",
    "\n",
    "def get_yearly(raw_data, time):\n",
    "    yearly_dataset = np.zeros(time)\n",
    "    length = len(raw_data)\n",
    "    for i in range(0, time):\n",
    "        j = 4*i\n",
    "        if j+4 > length:\n",
    "            if j+3 > length:\n",
    "                if j+2 > length:\n",
    "                    yearly_dataset[i] = np.sum(raw_data[j:j+4]*4)\n",
    "                else:\n",
    "                    yearly_dataset[i] = np.sum(raw_data[j:j+4]*2)\n",
    "            else:\n",
    "                yearly_dataset[i] = np.sum(raw_data[j:j+4]*(4/3))\n",
    "        else:\n",
    "            yearly_dataset[i] = np.sum(raw_data[j:j+4])\n",
    "    return yearly_dataset\n",
    "\n",
    "y_train_div = get_yearly(y_train_div_raw, time_period)\n",
    "\n",
    "print(y_train_div)"
   ]
  },
  {
   "cell_type": "code",
   "execution_count": 10,
   "metadata": {},
   "outputs": [],
   "source": [
    "x_train_div = np.linspace(int(begin[0:4]), int(terminate[0:4]), time_period)"
   ]
  },
  {
   "cell_type": "code",
   "execution_count": 11,
   "metadata": {},
   "outputs": [
    {
     "data": {
      "image/png": "[encoded data removed]",
      "text/plain": [
       "<Figure size 432x288 with 1 Axes>"
      ]
     },
     "metadata": {
      "needs_background": "light"
     },
     "output_type": "display_data"
    }
   ],
   "source": [
    "plt.plot(x_train_close, y_train_close) \n",
    "# Set the title\n",
    "plt.title(\"Stock Close Price vs Date\")\n",
    "# Set the y-axis label\n",
    "plt.ylabel(\"Apple Stock Close Price\")\n",
    "# Set the x-axis label\n",
    "plt.xlabel(\"Date\")\n",
    "plt.show()"
   ]
  },
  {
   "cell_type": "code",
   "execution_count": 12,
   "metadata": {},
   "outputs": [
    {
     "data": {
      "image/png": "[encoded data removed]",
      "text/plain": [
       "<Figure size 432x288 with 1 Axes>"
      ]
     },
     "metadata": {
      "needs_background": "light"
     },
     "output_type": "display_data"
    },
    {
     "name": "stdout",
     "output_type": "stream",
     "text": [
      "[0.42143    0.461429   0.5075     0.5575     0.615      0.705\n",
      " 0.76       0.8075     0.865      0.90666667]\n"
     ]
    }
   ],
   "source": [
    "plt.plot(x_train_div, y_train_div, marker='x', c='r') \n",
    "# Set the title\n",
    "plt.title(\"Dividends vs Date\")\n",
    "# Set the y-axis label\n",
    "plt.ylabel(\"Dividends\")\n",
    "# Set the x-axis label\n",
    "plt.xlabel(\"Date\")\n",
    "plt.show()\n",
    "\n",
    "print(y_train_div)"
   ]
  },
  {
   "cell_type": "code",
   "execution_count": 13,
   "metadata": {},
   "outputs": [],
   "source": [
    "# convert x training data for stock prices to matrix to be implemented in polynomial regression \n",
    "def Create_Matrix_Train(arr, order):\n",
    "    l = len(arr)\n",
    "    array = np.zeros(l)\n",
    "    for i in range (l):\n",
    "        date = str(arr[i])[:10]\n",
    "        year = int(date[:4])\n",
    "        month = int(date[5:7])\n",
    "        day = int(date[-2:])\n",
    "        second = int(time.mktime(datetime.datetime(year, month, day, 23, 59).timetuple()))\n",
    "        array[i] = second\n",
    "    length = len(array)\n",
    "    matrix = []\n",
    "    for j in range(length):\n",
    "        for i in range(order):\n",
    "            matrix.append(array[j]**(i+1))\n",
    "    array = np.array(matrix).reshape((length, order))\n",
    "    return array\n",
    "\n",
    "poly_order = 6\n",
    "\n",
    "x_train_close = Create_Matrix_Train(x_train_close, poly_order)"
   ]
  },
  {
   "cell_type": "code",
   "execution_count": 14,
   "metadata": {},
   "outputs": [],
   "source": [
    "def zscore_normalize_features(X):\n",
    "\n",
    "  # find the mean of each column/feature\n",
    "  mu     = np.mean(X, axis=0)                 # mu will have shape (n,)\n",
    "  # find the standard deviation of each column/feature\n",
    "  sigma  = np.std(X, axis=0)                  # sigma will have shape (n,)\n",
    "  # element-wise, subtract mu for that column from each example, divide by std for that column\n",
    "  X_norm = (X - mu) / sigma      \n",
    "  return (X_norm, mu, sigma)"
   ]
  },
  {
   "cell_type": "code",
   "execution_count": 15,
   "metadata": {},
   "outputs": [],
   "source": [
    "x_close = zscore_normalize_features(x_train_close)\n",
    "x_train_close_norm = x_close[0]\n",
    "x_div = zscore_normalize_features(x_train_div)\n",
    "x_train_div_norm = x_div[0]"
   ]
  },
  {
   "cell_type": "markdown",
   "metadata": {},
   "source": []
  },
  {
   "cell_type": "code",
   "execution_count": 16,
   "metadata": {},
   "outputs": [],
   "source": [
    "def compute_cost(X, y, w, b): \n",
    "    \"\"\"\n",
    "    compute cost\n",
    "    Args:\n",
    "      X (ndarray (m,n)): Data, m examples with n features\n",
    "      y (ndarray (m,)) : target values\n",
    "      w (ndarray (n,)) : model parameters  \n",
    "      b (scalar)       : model parameter\n",
    "      \n",
    "    Returns:\n",
    "      cost (scalar): cost\n",
    "    \"\"\"\n",
    "    m = X.shape[0]\n",
    "    cost = 0.0\n",
    "    for i in range(m):                                \n",
    "        f_wb_i = np.dot(X[i], w) + b           #(n,)(n,) = scalar (see np.dot)\n",
    "        cost += (f_wb_i - y[i])**2       #scalar\n",
    "    cost = cost / (2 * m)                      #scalar    \n",
    "    return cost"
   ]
  },
  {
   "cell_type": "code",
   "execution_count": 17,
   "metadata": {},
   "outputs": [
    {
     "name": "stdout",
     "output_type": "stream",
     "text": [
      "Cost at initial w: nan\n",
      "Cost at initial w: 0.07100034140260557\n"
     ]
    }
   ],
   "source": [
    "# Compute cost with some initial values for paramaters w, b\n",
    "initial_w_close = np.zeros(poly_order)\n",
    "initial_w_div = 0\n",
    "initial_b = 1\n",
    "\n",
    "cost_close = compute_cost(x_train_close_norm, y_train_close, initial_w_close, initial_b)\n",
    "cost_div = compute_cost(x_train_div_norm, y_train_div, initial_w_div, initial_b)\n",
    "\n",
    "print(f'Cost at initial w: {cost_close}')\n",
    "print(f'Cost at initial w: {cost_div}')"
   ]
  },
  {
   "cell_type": "code",
   "execution_count": 18,
   "metadata": {},
   "outputs": [],
   "source": [
    "def compute_gradient_poly(X, y, w, b): \n",
    "    \"\"\"\n",
    "    Computes the gradient for linear regression \n",
    "    Args:\n",
    "      X (ndarray (m,n)): Data, m examples with n features\n",
    "      y (ndarray (m,)) : target values\n",
    "      w (ndarray (n,)) : model parameters  \n",
    "      b (scalar)       : model parameter\n",
    "      \n",
    "    Returns:\n",
    "      dj_dw (ndarray (n,)): The gradient of the cost w.r.t. the parameters w. \n",
    "      dj_db (scalar):       The gradient of the cost w.r.t. the parameter b. \n",
    "    \"\"\"\n",
    "    m,n = X.shape           #(number of examples, number of features)\n",
    "    dj_dw = np.zeros((n,))\n",
    "    dj_db = 0.\n",
    "\n",
    "    for i in range(m):                             \n",
    "        err = (np.dot(X[i], w) + b) - y[i]   \n",
    "        for j in range(n):                         \n",
    "            dj_dw[j] = dj_dw[j] + err * X[i, j]    \n",
    "        dj_db = dj_db + err                        \n",
    "    dj_dw = dj_dw / m                                \n",
    "    dj_db = dj_db / m                                \n",
    "        \n",
    "    return dj_db, dj_dw"
   ]
  },
  {
   "cell_type": "code",
   "execution_count": 19,
   "metadata": {},
   "outputs": [],
   "source": [
    "def compute_gradient_linear(x, y, w, b): \n",
    "    \"\"\"\n",
    "    Computes the gradient for linear regression \n",
    "    Args:\n",
    "      x (ndarray): Shape (m,) Input to the model (Population of cities) \n",
    "      y (ndarray): Shape (m,) Label (Actual profits for the cities)\n",
    "      w, b (scalar): Parameters of the model  \n",
    "    Returns\n",
    "      dj_dw (scalar): The gradient of the cost w.r.t. the parameters w\n",
    "      dj_db (scalar): The gradient of the cost w.r.t. the parameter b     \n",
    "     \"\"\"\n",
    "    \n",
    "    # Number of training examples\n",
    "    m = x.shape[0]\n",
    "    \n",
    "    # You need to return the following variables correctly\n",
    "    dj_dw = 0\n",
    "    dj_db = 0\n",
    "    \n",
    "    ### START CODE HERE ### \n",
    "    \n",
    "    for i in range(m):  \n",
    "        f_wb = w * x[i] + b \n",
    "        dj_dw_i = (f_wb - y[i]) * x[i] \n",
    "        dj_db_i = f_wb - y[i] \n",
    "        dj_db += dj_db_i\n",
    "        dj_dw += dj_dw_i \n",
    "    dj_dw = dj_dw / m \n",
    "    dj_db = dj_db / m \n",
    "\n",
    "    ### END CODE HERE ### \n",
    "        \n",
    "    return dj_dw, dj_db"
   ]
  },
  {
   "cell_type": "code",
   "execution_count": 20,
   "metadata": {},
   "outputs": [
    {
     "name": "stdout",
     "output_type": "stream",
     "text": [
      "Gradient at initial w, b (zeros): nan [nan nan nan nan nan nan]\n",
      "Gradient at initial w, b (zeros): -0.16345242584583305 0.33929743333333334\n"
     ]
    }
   ],
   "source": [
    "# Compute and display gradient with w initialized to zeroes\n",
    "initial_w_close = np.zeros(poly_order)\n",
    "initial_w_div = 0\n",
    "initial_b = 1\n",
    "\n",
    "tmp_dj_dw_close, tmp_dj_db_close = compute_gradient_poly(x_train_close_norm, y_train_close, initial_w_close, initial_b)\n",
    "tmp_dj_dw_div, tmp_dj_db_div = compute_gradient_linear(x_train_div_norm, y_train_div, initial_w_div, initial_b)\n",
    "#tmp_dj_dw_div, tmp_dj_db_div = compute_gradient(x_train_div, y_train_div, initial_w_div, initial_b)\n",
    "print('Gradient at initial w, b (zeros):', tmp_dj_dw_close, tmp_dj_db_close)\n",
    "print('Gradient at initial w, b (zeros):', tmp_dj_dw_div, tmp_dj_db_div)"
   ]
  },
  {
   "cell_type": "code",
   "execution_count": 21,
   "metadata": {},
   "outputs": [],
   "source": [
    "def gradient_descent(x, y, w_in, b_in, cost_function, gradient_function, alpha, num_iters): \n",
    "    \"\"\"\n",
    "    Performs batch gradient descent to learn theta. Updates theta by taking \n",
    "    num_iters gradient steps with learning rate alpha\n",
    "    \n",
    "    Args:\n",
    "      x :    (ndarray): Shape (m,)\n",
    "      y :    (ndarray): Shape (m,)\n",
    "      w_in, b_in : (scalar) Initial values of parameters of the model\n",
    "      cost_function: function to compute cost\n",
    "      gradient_function: function to compute the gradient\n",
    "      alpha : (float) Learning rate\n",
    "      num_iters : (int) number of iterations to run gradient descent\n",
    "    Returns\n",
    "      w : (ndarray): Shape (1,) Updated values of parameters of the model after\n",
    "          running gradient descent\n",
    "      b : (scalar)                Updated value of parameter of the model after\n",
    "          running gradient descent\n",
    "    \"\"\"\n",
    "    \n",
    "    # number of training examples\n",
    "    m = len(x)\n",
    "    \n",
    "    # An array to store cost J and w's at each iteration — primarily for graphing later\n",
    "    J_history = []\n",
    "    w_history = []\n",
    "    w = copy.deepcopy(w_in)  #avoid modifying global w within function\n",
    "    b = b_in\n",
    "    \n",
    "    for i in range(num_iters):\n",
    "\n",
    "        # Calculate the gradient and update the parameters\n",
    "        dj_dw, dj_db = gradient_function(x, y, w, b )  \n",
    "\n",
    "        # Update Parameters using w, b, alpha and gradient\n",
    "        w = w - alpha * dj_dw               \n",
    "        b = b - alpha * dj_db               \n",
    "\n",
    "        # Save cost J at each iteration\n",
    "        if i<100000:      # prevent resource exhaustion \n",
    "            cost =  cost_function(x, y, w, b)\n",
    "            J_history.append(cost)\n",
    "\n",
    "        # Print cost every at intervals 10 times or as many iterations if < 10\n",
    "        if i% math.ceil(num_iters/10) == 0:\n",
    "            w_history.append(w)\n",
    "            print(f\"Iteration {i:4}: Cost {float(J_history[-1]):8.2f}   \")\n",
    "        \n",
    "    return w, b, J_history, w_history #return w and J,w history for graphing"
   ]
  },
  {
   "cell_type": "code",
   "execution_count": 22,
   "metadata": {},
   "outputs": [
    {
     "name": "stdout",
     "output_type": "stream",
     "text": [
      "[-1.5666989  -1.21854359 -0.87038828 -0.52223297 -0.17407766  0.17407766\n",
      "  0.52223297  0.87038828  1.21854359  1.5666989 ]\n"
     ]
    }
   ],
   "source": [
    "print(x_train_div_norm)"
   ]
  },
  {
   "cell_type": "code",
   "execution_count": 23,
   "metadata": {},
   "outputs": [
    {
     "ename": "TypeError",
     "evalue": "only size-1 arrays can be converted to Python scalars",
     "output_type": "error",
     "traceback": [
      "\u001b[0;31m---------------------------------------------------------------------------\u001b[0m",
      "\u001b[0;31mTypeError\u001b[0m                                 Traceback (most recent call last)",
      "\u001b[0;32m<ipython-input-23-a5cecfab90f6>\u001b[0m in \u001b[0;36m<module>\u001b[0;34m\u001b[0m\n\u001b[1;32m      6\u001b[0m \u001b[0malpha\u001b[0m \u001b[0;34m=\u001b[0m \u001b[0;36m5.0e-7\u001b[0m\u001b[0;34m\u001b[0m\u001b[0;34m\u001b[0m\u001b[0m\n\u001b[1;32m      7\u001b[0m \u001b[0;31m# run gradient descent\u001b[0m\u001b[0;34m\u001b[0m\u001b[0;34m\u001b[0m\u001b[0;34m\u001b[0m\u001b[0m\n\u001b[0;32m----> 8\u001b[0;31m \u001b[0mw_close\u001b[0m\u001b[0;34m,\u001b[0m \u001b[0mb_close\u001b[0m\u001b[0;34m,\u001b[0m \u001b[0mJ_hist_close\u001b[0m\u001b[0;34m,\u001b[0m \u001b[0mw_hist_close\u001b[0m \u001b[0;34m=\u001b[0m \u001b[0mgradient_descent\u001b[0m\u001b[0;34m(\u001b[0m\u001b[0mx_train_close_norm\u001b[0m\u001b[0;34m,\u001b[0m \u001b[0my_train_close\u001b[0m\u001b[0;34m,\u001b[0m \u001b[0minitial_w\u001b[0m\u001b[0;34m,\u001b[0m \u001b[0minitial_b\u001b[0m\u001b[0;34m,\u001b[0m \u001b[0mcompute_cost\u001b[0m\u001b[0;34m,\u001b[0m \u001b[0mcompute_gradient_poly\u001b[0m\u001b[0;34m,\u001b[0m \u001b[0malpha\u001b[0m\u001b[0;34m,\u001b[0m \u001b[0miterations\u001b[0m\u001b[0;34m)\u001b[0m\u001b[0;34m\u001b[0m\u001b[0;34m\u001b[0m\u001b[0m\n\u001b[0m\u001b[1;32m      9\u001b[0m \u001b[0mprint\u001b[0m\u001b[0;34m(\u001b[0m\u001b[0;34mf\"b,w found by gradient descent: {b_close:0.2f},{w_close} \"\u001b[0m\u001b[0;34m)\u001b[0m\u001b[0;34m\u001b[0m\u001b[0;34m\u001b[0m\u001b[0m\n\u001b[1;32m     10\u001b[0m \u001b[0mm\u001b[0m\u001b[0;34m,\u001b[0m\u001b[0m_\u001b[0m \u001b[0;34m=\u001b[0m \u001b[0mx_train_close\u001b[0m\u001b[0;34m.\u001b[0m\u001b[0mshape\u001b[0m\u001b[0;34m\u001b[0m\u001b[0;34m\u001b[0m\u001b[0m\n",
      "\u001b[0;32m<ipython-input-21-ec5555f4942a>\u001b[0m in \u001b[0;36mgradient_descent\u001b[0;34m(x, y, w_in, b_in, cost_function, gradient_function, alpha, num_iters)\u001b[0m\n\u001b[1;32m     45\u001b[0m         \u001b[0;32mif\u001b[0m \u001b[0mi\u001b[0m\u001b[0;34m%\u001b[0m \u001b[0mmath\u001b[0m\u001b[0;34m.\u001b[0m\u001b[0mceil\u001b[0m\u001b[0;34m(\u001b[0m\u001b[0mnum_iters\u001b[0m\u001b[0;34m/\u001b[0m\u001b[0;36m10\u001b[0m\u001b[0;34m)\u001b[0m \u001b[0;34m==\u001b[0m \u001b[0;36m0\u001b[0m\u001b[0;34m:\u001b[0m\u001b[0;34m\u001b[0m\u001b[0;34m\u001b[0m\u001b[0m\n\u001b[1;32m     46\u001b[0m             \u001b[0mw_history\u001b[0m\u001b[0;34m.\u001b[0m\u001b[0mappend\u001b[0m\u001b[0;34m(\u001b[0m\u001b[0mw\u001b[0m\u001b[0;34m)\u001b[0m\u001b[0;34m\u001b[0m\u001b[0;34m\u001b[0m\u001b[0m\n\u001b[0;32m---> 47\u001b[0;31m             \u001b[0mprint\u001b[0m\u001b[0;34m(\u001b[0m\u001b[0;34mf\"Iteration {i:4}: Cost {float(J_history[-1]):8.2f}   \"\u001b[0m\u001b[0;34m)\u001b[0m\u001b[0;34m\u001b[0m\u001b[0;34m\u001b[0m\u001b[0m\n\u001b[0m\u001b[1;32m     48\u001b[0m \u001b[0;34m\u001b[0m\u001b[0m\n\u001b[1;32m     49\u001b[0m     \u001b[0;32mreturn\u001b[0m \u001b[0mw\u001b[0m\u001b[0;34m,\u001b[0m \u001b[0mb\u001b[0m\u001b[0;34m,\u001b[0m \u001b[0mJ_history\u001b[0m\u001b[0;34m,\u001b[0m \u001b[0mw_history\u001b[0m \u001b[0;31m#return w and J,w history for graphing\u001b[0m\u001b[0;34m\u001b[0m\u001b[0;34m\u001b[0m\u001b[0m\n",
      "\u001b[0;31mTypeError\u001b[0m: only size-1 arrays can be converted to Python scalars"
     ]
    }
   ],
   "source": [
    "# initialize parameters\n",
    "initial_w = np.zeros(poly_order)\n",
    "initial_b = 0.\n",
    "# some gradient descent settings\n",
    "iterations = 1000\n",
    "alpha = 5.0e-7\n",
    "# run gradient descent \n",
    "w_close, b_close, J_hist_close, w_hist_close = gradient_descent(x_train_close_norm, y_train_close, initial_w, initial_b, compute_cost, compute_gradient_poly, alpha, iterations)\n",
    "print(f\"b,w found by gradient descent: {b_close:0.2f},{w_close} \")\n",
    "m,_ = x_train_close.shape\n",
    "for i in range(m):\n",
    "    print(f\"prediction: {np.dot(x_train[i], w_close) + b_close:0.2f}, target value: {y_train[i]}\")"
   ]
  },
  {
   "cell_type": "code",
   "execution_count": 24,
   "metadata": {},
   "outputs": [
    {
     "name": "stdout",
     "output_type": "stream",
     "text": [
      "Iteration    0: Cost     0.07   \n",
      "Iteration  150: Cost     0.00   \n",
      "Iteration  300: Cost     0.00   \n",
      "Iteration  450: Cost     0.00   \n",
      "Iteration  600: Cost     0.00   \n",
      "Iteration  750: Cost     0.00   \n",
      "Iteration  900: Cost     0.00   \n",
      "Iteration 1050: Cost     0.00   \n",
      "Iteration 1200: Cost     0.00   \n",
      "Iteration 1350: Cost     0.00   \n"
     ]
    },
    {
     "ename": "NameError",
     "evalue": "name 'w' is not defined",
     "output_type": "error",
     "traceback": [
      "\u001b[0;31m---------------------------------------------------------------------------\u001b[0m",
      "\u001b[0;31mNameError\u001b[0m                                 Traceback (most recent call last)",
      "\u001b[0;32m<ipython-input-24-7e7d4ba0ec1b>\u001b[0m in \u001b[0;36m<module>\u001b[0;34m\u001b[0m\n\u001b[1;32m      8\u001b[0m \u001b[0;34m\u001b[0m\u001b[0m\n\u001b[1;32m      9\u001b[0m \u001b[0mw_div\u001b[0m\u001b[0;34m,\u001b[0m\u001b[0mb_div\u001b[0m\u001b[0;34m,\u001b[0m\u001b[0mJ_hist_div\u001b[0m\u001b[0;34m,\u001b[0m\u001b[0mW_hist_div\u001b[0m \u001b[0;34m=\u001b[0m \u001b[0mgradient_descent\u001b[0m\u001b[0;34m(\u001b[0m\u001b[0mx_train_div_norm\u001b[0m\u001b[0;34m,\u001b[0m \u001b[0my_train_div\u001b[0m\u001b[0;34m,\u001b[0m \u001b[0minitial_w\u001b[0m\u001b[0;34m,\u001b[0m \u001b[0minitial_b\u001b[0m\u001b[0;34m,\u001b[0m \u001b[0mcompute_cost\u001b[0m\u001b[0;34m,\u001b[0m \u001b[0mcompute_gradient_linear\u001b[0m\u001b[0;34m,\u001b[0m \u001b[0malpha\u001b[0m\u001b[0;34m,\u001b[0m \u001b[0miterations\u001b[0m\u001b[0;34m)\u001b[0m\u001b[0;34m\u001b[0m\u001b[0;34m\u001b[0m\u001b[0m\n\u001b[0;32m---> 10\u001b[0;31m \u001b[0mprint\u001b[0m\u001b[0;34m(\u001b[0m\u001b[0;34m\"w,b found by gradient descent:\"\u001b[0m\u001b[0;34m,\u001b[0m \u001b[0mw\u001b[0m\u001b[0;34m,\u001b[0m \u001b[0mb\u001b[0m\u001b[0;34m)\u001b[0m\u001b[0;34m\u001b[0m\u001b[0;34m\u001b[0m\u001b[0m\n\u001b[0m",
      "\u001b[0;31mNameError\u001b[0m: name 'w' is not defined"
     ]
    }
   ],
   "source": [
    "# initialize fitting parameters. Recall that the shape of w is (n,)\n",
    "initial_w = 0.\n",
    "initial_b = 1.\n",
    "\n",
    "# some gradient descent settings\n",
    "iterations = 1500\n",
    "alpha = 0.01\n",
    "\n",
    "w_div,b_div,J_hist_div,W_hist_div = gradient_descent(x_train_div_norm, y_train_div, initial_w, initial_b, compute_cost, compute_gradient_linear, alpha, iterations)\n",
    "print(\"w,b found by gradient descent:\", w, b)"
   ]
  },
  {
   "cell_type": "markdown",
   "metadata": {},
   "source": []
  },
  {
   "cell_type": "code",
   "execution_count": 25,
   "metadata": {},
   "outputs": [
    {
     "ename": "NameError",
     "evalue": "name 'J_hist' is not defined",
     "output_type": "error",
     "traceback": [
      "\u001b[0;31m---------------------------------------------------------------------------\u001b[0m",
      "\u001b[0;31mNameError\u001b[0m                                 Traceback (most recent call last)",
      "\u001b[0;32m<ipython-input-25-f3a8bcc70320>\u001b[0m in \u001b[0;36m<module>\u001b[0;34m\u001b[0m\n\u001b[1;32m      1\u001b[0m \u001b[0;31m# plot cost versus iteration\u001b[0m\u001b[0;34m\u001b[0m\u001b[0;34m\u001b[0m\u001b[0;34m\u001b[0m\u001b[0m\n\u001b[1;32m      2\u001b[0m \u001b[0mfig\u001b[0m\u001b[0;34m,\u001b[0m \u001b[0;34m(\u001b[0m\u001b[0max1\u001b[0m\u001b[0;34m,\u001b[0m \u001b[0max2\u001b[0m\u001b[0;34m)\u001b[0m \u001b[0;34m=\u001b[0m \u001b[0mplt\u001b[0m\u001b[0;34m.\u001b[0m\u001b[0msubplots\u001b[0m\u001b[0;34m(\u001b[0m\u001b[0;36m1\u001b[0m\u001b[0;34m,\u001b[0m \u001b[0;36m2\u001b[0m\u001b[0;34m,\u001b[0m \u001b[0mconstrained_layout\u001b[0m\u001b[0;34m=\u001b[0m\u001b[0;32mTrue\u001b[0m\u001b[0;34m,\u001b[0m \u001b[0mfigsize\u001b[0m\u001b[0;34m=\u001b[0m\u001b[0;34m(\u001b[0m\u001b[0;36m12\u001b[0m\u001b[0;34m,\u001b[0m \u001b[0;36m4\u001b[0m\u001b[0;34m)\u001b[0m\u001b[0;34m)\u001b[0m\u001b[0;34m\u001b[0m\u001b[0;34m\u001b[0m\u001b[0m\n\u001b[0;32m----> 3\u001b[0;31m \u001b[0max1\u001b[0m\u001b[0;34m.\u001b[0m\u001b[0mplot\u001b[0m\u001b[0;34m(\u001b[0m\u001b[0mJ_hist\u001b[0m\u001b[0;34m)\u001b[0m\u001b[0;34m\u001b[0m\u001b[0;34m\u001b[0m\u001b[0m\n\u001b[0m\u001b[1;32m      4\u001b[0m \u001b[0max2\u001b[0m\u001b[0;34m.\u001b[0m\u001b[0mplot\u001b[0m\u001b[0;34m(\u001b[0m\u001b[0;36m100\u001b[0m \u001b[0;34m+\u001b[0m \u001b[0mnp\u001b[0m\u001b[0;34m.\u001b[0m\u001b[0marange\u001b[0m\u001b[0;34m(\u001b[0m\u001b[0mlen\u001b[0m\u001b[0;34m(\u001b[0m\u001b[0mJ_hist\u001b[0m\u001b[0;34m[\u001b[0m\u001b[0;36m100\u001b[0m\u001b[0;34m:\u001b[0m\u001b[0;34m]\u001b[0m\u001b[0;34m)\u001b[0m\u001b[0;34m)\u001b[0m\u001b[0;34m,\u001b[0m \u001b[0mJ_hist\u001b[0m\u001b[0;34m[\u001b[0m\u001b[0;36m100\u001b[0m\u001b[0;34m:\u001b[0m\u001b[0;34m]\u001b[0m\u001b[0;34m)\u001b[0m\u001b[0;34m\u001b[0m\u001b[0;34m\u001b[0m\u001b[0m\n\u001b[1;32m      5\u001b[0m \u001b[0max1\u001b[0m\u001b[0;34m.\u001b[0m\u001b[0mset_title\u001b[0m\u001b[0;34m(\u001b[0m\u001b[0;34m\"Cost vs. iteration\"\u001b[0m\u001b[0;34m)\u001b[0m\u001b[0;34m;\u001b[0m  \u001b[0max2\u001b[0m\u001b[0;34m.\u001b[0m\u001b[0mset_title\u001b[0m\u001b[0;34m(\u001b[0m\u001b[0;34m\"Cost vs. iteration (tail)\"\u001b[0m\u001b[0;34m)\u001b[0m\u001b[0;34m\u001b[0m\u001b[0;34m\u001b[0m\u001b[0m\n",
      "\u001b[0;31mNameError\u001b[0m: name 'J_hist' is not defined"
     ]
    },
    {
     "data": {
      "image/png": "[encoded data removed]",
      "text/plain": [
       "<Figure size 864x288 with 2 Axes>"
      ]
     },
     "metadata": {
      "needs_background": "light"
     },
     "output_type": "display_data"
    }
   ],
   "source": [
    "# plot cost versus iteration  \n",
    "fig, (ax1, ax2) = plt.subplots(1, 2, constrained_layout=True, figsize=(12, 4))\n",
    "ax1.plot(J_hist)\n",
    "ax2.plot(100 + np.arange(len(J_hist[100:])), J_hist[100:])\n",
    "ax1.set_title(\"Cost vs. iteration\");  ax2.set_title(\"Cost vs. iteration (tail)\")\n",
    "ax1.set_ylabel('Cost')             ;  ax2.set_ylabel('Cost') \n",
    "ax1.set_xlabel('iteration step')   ;  ax2.set_xlabel('iteration step') \n",
    "plt.show()"
   ]
  },
  {
   "cell_type": "code",
   "execution_count": 26,
   "metadata": {},
   "outputs": [
    {
     "data": {
      "image/png": "[encoded data removed]",
      "text/plain": [
       "<Figure size 432x288 with 1 Axes>"
      ]
     },
     "metadata": {
      "needs_background": "light"
     },
     "output_type": "display_data"
    }
   ],
   "source": [
    "prediction_normalized = (w_div*x_train_div_norm)+b_div\n",
    "\n",
    "end_predict = 2030\n",
    "beg_predict = int(terminate[0:4])+1\n",
    "x_predict_div = np.linspace(beg_predict, end_predict, (end_predict-beg_predict)+1)\n",
    "x_predict_div_norm = (x_predict_div - x_div[1]) / x_div[2]\n",
    "prediction_div = (w_div*x_predict_div_norm)+b_div\n",
    "\n",
    "\n",
    "\n",
    "\n",
    "\n",
    "# plt.plot(x_predict_div, prediction_div, c='b') \n",
    "\n",
    "# plt.plot(x_train_div, prediction_normalized, c='r') \n",
    "\n",
    "# plt.scatter(x_train_div, y_train_div, marker='x', c='r')\n",
    "# # Set the title\n",
    "# plt.title(\"Dividends vs Date\")\n",
    "# # Set the y-axis label\n",
    "# plt.ylabel(\"Dividends\")\n",
    "# # Set the x-axis label\n",
    "# plt.xlabel(\"Date\")\n",
    "# plt.show()"
   ]
  },
  {
   "cell_type": "code",
   "execution_count": null,
   "metadata": {},
   "outputs": [],
   "source": []
  },
  {
   "cell_type": "code",
   "execution_count": 27,
   "metadata": {},
   "outputs": [],
   "source": [
    "#function to compute dividend growth rate\n",
    "\n",
    "def growth_rate(prediction_div):\n",
    "    prediction_period = len(prediction_div)\n",
    "    predicted_growth = np.zeros(prediction_period-1)\n",
    "    for i in range (1, prediction_period):\n",
    "        predicted_growth[i-1] = prediction_div[i]/prediction_div[i-1] - 1\n",
    "    return predicted_growth"
   ]
  },
  {
   "cell_type": "code",
   "execution_count": 30,
   "metadata": {},
   "outputs": [
    {
     "name": "stdout",
     "output_type": "stream",
     "text": [
      "[2022. 2023. 2024. 2025. 2026. 2027. 2028. 2029. 2030.]\n",
      "[1.5666989  1.91485422 2.26300953 2.61116484 2.95932015 3.30747546\n",
      " 3.65563078 4.00378609 4.3519414 ]\n",
      "[0.91678333 0.97369014 1.03059695 1.08750377 1.14441058 1.2013174\n",
      " 1.25822421 1.31513103 1.37203784]\n",
      "[0.06207226 0.05844448 0.05521733 0.05232792 0.04972587 0.04737034\n",
      " 0.04522788 0.04327083]\n"
     ]
    },
    {
     "data": {
      "image/png": "[encoded data removed]",
      "text/plain": [
       "<Figure size 432x288 with 1 Axes>"
      ]
     },
     "metadata": {
      "needs_background": "light"
     },
     "output_type": "display_data"
    }
   ],
   "source": [
    "\n",
    "x_predict_div_1 = np.linspace(beg_predict-1, end_predict, (end_predict-beg_predict)+2)\n",
    "x_predict_div_norm_1 = (x_predict_div_1 - x_div[1]) / x_div[2]\n",
    "prediction_div_1 = (w_div*x_predict_div_norm_1)+b_div\n",
    "prediction_growth = growth_rate(prediction_div_1)\n",
    "\n",
    "print(x_predict_div_1)\n",
    "\n",
    "print(x_predict_div_norm_1)\n",
    "\n",
    "print(prediction_div_1)\n",
    "\n",
    "print(prediction_growth)\n",
    "\n",
    "plt.plot(x_predict_div, prediction_growth, c='r') \n",
    "# Set the title\n",
    "plt.title(\"Growth Rate vs Date\")\n",
    "# Set the y-axis label\n",
    "plt.ylabel(\"Growth Rate\")\n",
    "# Set the x-axis label\n",
    "plt.xlabel(\"Date\")\n",
    "plt.show()"
   ]
  },
  {
   "cell_type": "code",
   "execution_count": 32,
   "metadata": {},
   "outputs": [
    {
     "data": {
      "text/plain": [
       "0.16359884700975194"
      ]
     },
     "execution_count": 32,
     "metadata": {},
     "output_type": "execute_result"
    }
   ],
   "source": [
    "Risk_Free = 0.03\n",
    "\n",
    "market_ticker = \"VGT\"\n",
    "\n",
    "def cost_of_equity(Market_Ticker, Stock_Ticker, risk_free_rate, term):\n",
    "    period = \"1wk\"\n",
    "    VGT = yf.Ticker(f\"{Market_Ticker}\")\n",
    "    market_hist = VGT.history(start=\"2005-01-01\", end=f\"{term}\", interval=f\"{period}\")\n",
    "    market_return = ((market_hist[\"Close\"][-1]/market_hist[\"Close\"][0])**(1/(int(terminate[:4])-2005)))-1\n",
    "    Tick = yf.Ticker(f\"{Stock_Ticker}\")\n",
    "    beta = Tick.info[\"beta\"]\n",
    "    cost_of_equity = risk_free_rate + (beta * (market_return - risk_free_rate))\n",
    "    return cost_of_equity\n",
    "\n",
    "cost_of_equity(market_ticker, ticker, Risk_Free, terminate)\n",
    "\n"
   ]
  },
  {
   "cell_type": "code",
   "execution_count": 31,
   "metadata": {},
   "outputs": [
    {
     "name": "stdout",
     "output_type": "stream",
     "text": [
      "9.037929033605852\n",
      "17\n",
      "RF: 0.03\n",
      "MR: 0.1382544284706353\n",
      "beta: 1.234119\n"
     ]
    }
   ],
   "source": [
    "#risk free rate was 3% as of 2019\n",
    "Risk_Free = 0.03\n",
    "\n",
    "# Define various variables including the stock name, start and end date of data to be stored, and the interval \n",
    "market_ticker = \"VGT\"\n",
    "period = \"1wk\"\n",
    "\n",
    "VGT = yf.Ticker(f\"{market_ticker}\")\n",
    "market_hist = VGT.history(start=\"2005-01-01\", end=f\"{terminate}\", interval=f\"{period}\")\n",
    "print(market_hist[\"Close\"][-1]/market_hist[\"Close\"][0])\n",
    "\n",
    "print(int(terminate[:4])-2005)\n",
    "\n",
    "market_return = ((market_hist[\"Close\"][-1]/market_hist[\"Close\"][0])**(1/(int(terminate[:4])-2005)))-1\n",
    "\n",
    "beta = apple.info[\"beta\"]\n",
    "\n",
    "print(f\"RF: {Risk_Free}\")\n",
    "print(f\"MR: {market_return}\")\n",
    "print(f\"beta: {beta}\")\n",
    "\n",
    "\n",
    "\n",
    "\n",
    "\n",
    "\n",
    "\n",
    "\n",
    "# print(ticker)\n",
    "# costequity = cost_of_equity(\"VGT\", f\"{ticker}\", 0.03)\n",
    "\n",
    "# print(costequity)"
   ]
  },
  {
   "cell_type": "code",
   "execution_count": 35,
   "metadata": {},
   "outputs": [
    {
     "name": "stdout",
     "output_type": "stream",
     "text": [
      "[0.97369014 1.03059695 1.08750377 1.14441058 1.2013174  1.25822421\n",
      " 1.31513103 1.37203784]\n",
      "[0.06207226 0.05844448 0.05521733 0.05232792 0.04972587 0.04737034\n",
      " 0.04522788 0.04327083]\n"
     ]
    },
    {
     "ename": "TypeError",
     "evalue": "unsupported operand type(s) for -: 'float' and 'function'",
     "output_type": "error",
     "traceback": [
      "\u001b[0;31m---------------------------------------------------------------------------\u001b[0m",
      "\u001b[0;31mTypeError\u001b[0m                                 Traceback (most recent call last)",
      "\u001b[0;32m<ipython-input-35-3817a5c9b2f1>\u001b[0m in \u001b[0;36m<module>\u001b[0;34m\u001b[0m\n\u001b[1;32m      4\u001b[0m \u001b[0;34m\u001b[0m\u001b[0m\n\u001b[1;32m      5\u001b[0m \u001b[0;34m\u001b[0m\u001b[0m\n\u001b[0;32m----> 6\u001b[0;31m \u001b[0mFair_Share\u001b[0m \u001b[0;34m=\u001b[0m \u001b[0;34m(\u001b[0m\u001b[0mprediction_div\u001b[0m \u001b[0;34m*\u001b[0m \u001b[0;34m(\u001b[0m\u001b[0mprediction_growth\u001b[0m\u001b[0;34m+\u001b[0m\u001b[0;36m1\u001b[0m\u001b[0;34m)\u001b[0m\u001b[0;34m)\u001b[0m\u001b[0;34m/\u001b[0m\u001b[0;34m(\u001b[0m\u001b[0;34m(\u001b[0m\u001b[0mprediction_growth\u001b[0m\u001b[0;34m-\u001b[0m\u001b[0mcost_of_equity\u001b[0m\u001b[0;34m)\u001b[0m\u001b[0;34m*\u001b[0m\u001b[0;34m(\u001b[0m\u001b[0;34m-\u001b[0m\u001b[0;36m1\u001b[0m\u001b[0;34m)\u001b[0m\u001b[0;34m)\u001b[0m\u001b[0;34m\u001b[0m\u001b[0;34m\u001b[0m\u001b[0m\n\u001b[0m\u001b[1;32m      7\u001b[0m \u001b[0;34m\u001b[0m\u001b[0m\n\u001b[1;32m      8\u001b[0m \u001b[0;34m\u001b[0m\u001b[0m\n",
      "\u001b[0;31mTypeError\u001b[0m: unsupported operand type(s) for -: 'float' and 'function'"
     ]
    }
   ],
   "source": [
    "print(prediction_div)\n",
    "print(prediction_growth)\n",
    "\n",
    "\n",
    "\n",
    "Fair_Share = (prediction_div * (prediction_growth+1))/((prediction_growth-cost_of_equity)*(-1))\n",
    "\n",
    "\n",
    "\n",
    "print(Fair_Share)\n",
    "\n",
    "plt.plot(x_predict_div, Fair_Share, c='r') \n",
    "# Set the title\n",
    "plt.title(\"Dividends vs Date\")\n",
    "# Set the y-axis label\n",
    "plt.ylabel(\"Dividends\")\n",
    "# Set the x-axis label\n",
    "plt.xlabel(\"Date\")\n",
    "plt.show()"
   ]
  }
 ],
 "metadata": {
  "kernelspec": {
   "display_name": "Python 3.8.5 ('base')",
   "language": "python",
   "name": "python3"
  },
  "language_info": {
   "codemirror_mode": {
    "name": "ipython",
    "version": 3
   },
   "file_extension": ".py",
   "mimetype": "text/x-python",
   "name": "python",
   "nbconvert_exporter": "python",
   "pygments_lexer": "ipython3",
   "version": "3.8.5"
  },
  "orig_nbformat": 4,
  "vscode": {
   "interpreter": {
    "hash": "40d3a090f54c6569ab1632332b64b2c03c39dcf918b08424e98f38b5ae0af88f"
   }
  }
 },
 "nbformat": 4,
 "nbformat_minor": 2
}
