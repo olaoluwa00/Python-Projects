{
 "cells": [
  {
   "cell_type": "markdown",
   "metadata": {},
   "source": [
    "# Linear Regression for Stock Valuation with Dividend Discount Model"
   ]
  },
  {
   "cell_type": "markdown",
   "metadata": {},
   "source": [
    "# Contents\n",
    "* Introduction\n",
    "* Dataset\n",
    "* Normalizing Data\n",
    "* Computing Cost\n",
    "* Gradient Descent\n",
    "* Fair Share Price Prediction Using Dividend Discount Model"
   ]
  },
  {
   "cell_type": "markdown",
   "metadata": {},
   "source": [
    "# Introduction\n",
    "\n",
    "The Dividend Discount Model is a method to calculate the fair share price of a stock. This model uses the dividend growth rate and cost of equity to calculate the fair share price of Apple stock. In this project, I implemented linear regression to predict the dividend growth rate, and used the dividend discound model to forecast future fair share prices of apple stock.\n",
    "\n",
    "The content for this project was derived from Andrew Ng's Machine Learning course and Bekhruzbek Ochilov's Stock Valuation (using the Dividend Discount Model) from Coursera."
   ]
  },
  {
   "cell_type": "code",
   "execution_count": 94,
   "metadata": {},
   "outputs": [
    {
     "name": "stdout",
     "output_type": "stream",
     "text": [
      "Requirement already satisfied: yfinance in /opt/anaconda3/lib/python3.8/site-packages (0.1.74)\n",
      "Requirement already satisfied: multitasking>=0.0.7 in /opt/anaconda3/lib/python3.8/site-packages (from yfinance) (0.0.11)\n",
      "Requirement already satisfied: numpy>=1.15 in /opt/anaconda3/lib/python3.8/site-packages (from yfinance) (1.19.2)\n",
      "Requirement already satisfied: requests>=2.26 in /opt/anaconda3/lib/python3.8/site-packages (from yfinance) (2.28.1)\n",
      "Requirement already satisfied: pandas>=0.24.0 in /opt/anaconda3/lib/python3.8/site-packages (from yfinance) (1.1.3)\n",
      "Requirement already satisfied: lxml>=4.5.1 in /opt/anaconda3/lib/python3.8/site-packages (from yfinance) (4.6.1)\n",
      "Requirement already satisfied: pytz>=2017.2 in /opt/anaconda3/lib/python3.8/site-packages (from pandas>=0.24.0->yfinance) (2020.1)\n",
      "Requirement already satisfied: python-dateutil>=2.7.3 in /opt/anaconda3/lib/python3.8/site-packages (from pandas>=0.24.0->yfinance) (2.8.1)\n",
      "Requirement already satisfied: certifi>=2017.4.17 in /opt/anaconda3/lib/python3.8/site-packages (from requests>=2.26->yfinance) (2020.6.20)\n",
      "Requirement already satisfied: urllib3<1.27,>=1.21.1 in /opt/anaconda3/lib/python3.8/site-packages (from requests>=2.26->yfinance) (1.25.11)\n",
      "Requirement already satisfied: charset-normalizer<3,>=2 in /opt/anaconda3/lib/python3.8/site-packages (from requests>=2.26->yfinance) (2.1.1)\n",
      "Requirement already satisfied: idna<4,>=2.5 in /opt/anaconda3/lib/python3.8/site-packages (from requests>=2.26->yfinance) (2.10)\n",
      "Requirement already satisfied: six>=1.5 in /opt/anaconda3/lib/python3.8/site-packages (from python-dateutil>=2.7.3->pandas>=0.24.0->yfinance) (1.15.0)\n",
      "Note: you may need to restart the kernel to use updated packages.\n"
     ]
    }
   ],
   "source": [
    "%pip install yfinance\n",
    "\n",
    "import numpy as np\n",
    "import pandas as pd\n",
    "import matplotlib.pyplot as plt\n",
    "import copy\n",
    "import math\n",
    "import time\n",
    "import datetime\n",
    "import yfinance as yf\n",
    "\n",
    "%matplotlib inline"
   ]
  },
  {
   "cell_type": "markdown",
   "metadata": {},
   "source": [
    "# Dataset\n",
    "\n",
    "**Retreiving Data**\n",
    "\n",
    "I began by loading the raw data using the yfinance library. I then displayed the available historical data from yahoo about apple stock."
   ]
  },
  {
   "cell_type": "code",
   "execution_count": 95,
   "metadata": {},
   "outputs": [
    {
     "data": {
      "text/html": [
       "<div>\n",
       "<style scoped>\n",
       "    .dataframe tbody tr th:only-of-type {\n",
       "        vertical-align: middle;\n",
       "    }\n",
       "\n",
       "    .dataframe tbody tr th {\n",
       "        vertical-align: top;\n",
       "    }\n",
       "\n",
       "    .dataframe thead th {\n",
       "        text-align: right;\n",
       "    }\n",
       "</style>\n",
       "<table border=\"1\" class=\"dataframe\">\n",
       "  <thead>\n",
       "    <tr style=\"text-align: right;\">\n",
       "      <th></th>\n",
       "      <th>Open</th>\n",
       "      <th>High</th>\n",
       "      <th>Low</th>\n",
       "      <th>Close</th>\n",
       "      <th>Volume</th>\n",
       "      <th>Dividends</th>\n",
       "      <th>Stock Splits</th>\n",
       "    </tr>\n",
       "    <tr>\n",
       "      <th>Date</th>\n",
       "      <th></th>\n",
       "      <th></th>\n",
       "      <th></th>\n",
       "      <th></th>\n",
       "      <th></th>\n",
       "      <th></th>\n",
       "      <th></th>\n",
       "    </tr>\n",
       "  </thead>\n",
       "  <tbody>\n",
       "    <tr>\n",
       "      <th>2013-01-01</th>\n",
       "      <td>17.038168</td>\n",
       "      <td>17.074471</td>\n",
       "      <td>15.850031</td>\n",
       "      <td>16.117685</td>\n",
       "      <td>1.991973e+09</td>\n",
       "      <td>0.0</td>\n",
       "      <td>0.0</td>\n",
       "    </tr>\n",
       "    <tr>\n",
       "      <th>2013-01-08</th>\n",
       "      <td>16.281036</td>\n",
       "      <td>16.363486</td>\n",
       "      <td>15.336558</td>\n",
       "      <td>15.436236</td>\n",
       "      <td>2.552172e+09</td>\n",
       "      <td>0.0</td>\n",
       "      <td>0.0</td>\n",
       "    </tr>\n",
       "    <tr>\n",
       "      <th>2013-01-15</th>\n",
       "      <td>15.330101</td>\n",
       "      <td>15.713123</td>\n",
       "      <td>14.871089</td>\n",
       "      <td>15.382401</td>\n",
       "      <td>2.494178e+09</td>\n",
       "      <td>0.0</td>\n",
       "      <td>0.0</td>\n",
       "    </tr>\n",
       "    <tr>\n",
       "      <th>2013-01-22</th>\n",
       "      <td>15.522686</td>\n",
       "      <td>15.843562</td>\n",
       "      <td>13.382686</td>\n",
       "      <td>13.838928</td>\n",
       "      <td>4.777452e+09</td>\n",
       "      <td>0.0</td>\n",
       "      <td>0.0</td>\n",
       "    </tr>\n",
       "    <tr>\n",
       "      <th>2013-01-29</th>\n",
       "      <td>14.105658</td>\n",
       "      <td>14.231794</td>\n",
       "      <td>13.598038</td>\n",
       "      <td>13.607883</td>\n",
       "      <td>2.324249e+09</td>\n",
       "      <td>0.0</td>\n",
       "      <td>0.0</td>\n",
       "    </tr>\n",
       "    <tr>\n",
       "      <th>...</th>\n",
       "      <td>...</td>\n",
       "      <td>...</td>\n",
       "      <td>...</td>\n",
       "      <td>...</td>\n",
       "      <td>...</td>\n",
       "      <td>...</td>\n",
       "      <td>...</td>\n",
       "    </tr>\n",
       "    <tr>\n",
       "      <th>2022-08-09</th>\n",
       "      <td>164.020004</td>\n",
       "      <td>173.389999</td>\n",
       "      <td>163.250000</td>\n",
       "      <td>173.190002</td>\n",
       "      <td>3.125863e+08</td>\n",
       "      <td>0.0</td>\n",
       "      <td>0.0</td>\n",
       "    </tr>\n",
       "    <tr>\n",
       "      <th>2022-08-16</th>\n",
       "      <td>172.779999</td>\n",
       "      <td>176.149994</td>\n",
       "      <td>167.139999</td>\n",
       "      <td>167.570007</td>\n",
       "      <td>3.375823e+08</td>\n",
       "      <td>0.0</td>\n",
       "      <td>0.0</td>\n",
       "    </tr>\n",
       "    <tr>\n",
       "      <th>2022-08-23</th>\n",
       "      <td>167.080002</td>\n",
       "      <td>171.050003</td>\n",
       "      <td>159.820007</td>\n",
       "      <td>161.380005</td>\n",
       "      <td>3.114818e+08</td>\n",
       "      <td>0.0</td>\n",
       "      <td>0.0</td>\n",
       "    </tr>\n",
       "    <tr>\n",
       "      <th>2022-08-30</th>\n",
       "      <td>162.130005</td>\n",
       "      <td>162.559998</td>\n",
       "      <td>154.669998</td>\n",
       "      <td>155.809998</td>\n",
       "      <td>3.170324e+08</td>\n",
       "      <td>0.0</td>\n",
       "      <td>0.0</td>\n",
       "    </tr>\n",
       "    <tr>\n",
       "      <th>2022-09-06</th>\n",
       "      <td>156.470001</td>\n",
       "      <td>157.820007</td>\n",
       "      <td>152.679993</td>\n",
       "      <td>157.369995</td>\n",
       "      <td>3.141170e+08</td>\n",
       "      <td>0.0</td>\n",
       "      <td>0.0</td>\n",
       "    </tr>\n",
       "  </tbody>\n",
       "</table>\n",
       "<p>547 rows × 7 columns</p>\n",
       "</div>"
      ],
      "text/plain": [
       "                  Open        High         Low       Close        Volume  \\\n",
       "Date                                                                       \n",
       "2013-01-01   17.038168   17.074471   15.850031   16.117685  1.991973e+09   \n",
       "2013-01-08   16.281036   16.363486   15.336558   15.436236  2.552172e+09   \n",
       "2013-01-15   15.330101   15.713123   14.871089   15.382401  2.494178e+09   \n",
       "2013-01-22   15.522686   15.843562   13.382686   13.838928  4.777452e+09   \n",
       "2013-01-29   14.105658   14.231794   13.598038   13.607883  2.324249e+09   \n",
       "...                ...         ...         ...         ...           ...   \n",
       "2022-08-09  164.020004  173.389999  163.250000  173.190002  3.125863e+08   \n",
       "2022-08-16  172.779999  176.149994  167.139999  167.570007  3.375823e+08   \n",
       "2022-08-23  167.080002  171.050003  159.820007  161.380005  3.114818e+08   \n",
       "2022-08-30  162.130005  162.559998  154.669998  155.809998  3.170324e+08   \n",
       "2022-09-06  156.470001  157.820007  152.679993  157.369995  3.141170e+08   \n",
       "\n",
       "            Dividends  Stock Splits  \n",
       "Date                                 \n",
       "2013-01-01        0.0           0.0  \n",
       "2013-01-08        0.0           0.0  \n",
       "2013-01-15        0.0           0.0  \n",
       "2013-01-22        0.0           0.0  \n",
       "2013-01-29        0.0           0.0  \n",
       "...               ...           ...  \n",
       "2022-08-09        0.0           0.0  \n",
       "2022-08-16        0.0           0.0  \n",
       "2022-08-23        0.0           0.0  \n",
       "2022-08-30        0.0           0.0  \n",
       "2022-09-06        0.0           0.0  \n",
       "\n",
       "[547 rows x 7 columns]"
      ]
     },
     "execution_count": 95,
     "metadata": {},
     "output_type": "execute_result"
    }
   ],
   "source": [
    "# Define various variables including the stock name, start and end date of data to be stored, and the interval \n",
    "ticker = \"AAPL\"\n",
    "begin = \"2013-01-02\"\n",
    "terminate = \"2022-09-10\"\n",
    "period = \"1wk\"\n",
    "\n",
    "apple = yf.Ticker(f\"{ticker}\")\n",
    "hist = apple.history(start=f\"{begin}\", end=f\"{terminate}\", interval=f\"{period}\")\n",
    "hist"
   ]
  },
  {
   "cell_type": "markdown",
   "metadata": {},
   "source": [
    "**Loading the Dataset**\n",
    "\n",
    "I then loaded the relevant data for the task, converting these values into useful ones.\n",
    "* y_train is the dividends from the corresponding year.\n",
    "* x_train is the year of the corresponding Apple stock dividends value."
   ]
  },
  {
   "cell_type": "code",
   "execution_count": 96,
   "metadata": {},
   "outputs": [],
   "source": [
    "# store quarterly dividend data in array, luckily there is no need to account for stock splits as yahoo already does that\n",
    "def get_yearly(raw_data, time):\n",
    "    \"\"\"\n",
    "    store quarterly dividend data in array, luckily there is no need to account for stock splits as yahoo already does that\n",
    "    Args:\n",
    "      raw_data (ndarray): Input to the function, the yearly dividend data from yfinance\n",
    "      time (scalar): The time period over which the model will fit to (years) \n",
    "    Returns:\n",
    "      yearly_dataset (ndarray): Array of annual dividends of each year to be analysed\n",
    "    \"\"\"\n",
    "    yearly_dataset = np.zeros(time)\n",
    "    length = len(raw_data)\n",
    "    for i in range(0, time):\n",
    "        j = 4*i\n",
    "        if j+4 > length:\n",
    "            if j+3 > length:\n",
    "                if j+2 > length:\n",
    "                    yearly_dataset[i] = np.sum(raw_data[j:j+4]*4)\n",
    "                else:\n",
    "                    yearly_dataset[i] = np.sum(raw_data[j:j+4]*2)\n",
    "            else:\n",
    "                yearly_dataset[i] = np.sum(raw_data[j:j+4]*(4/3))\n",
    "        else:\n",
    "            yearly_dataset[i] = np.sum(raw_data[j:j+4])\n",
    "    return yearly_dataset"
   ]
  },
  {
   "cell_type": "code",
   "execution_count": 97,
   "metadata": {},
   "outputs": [],
   "source": [
    "time_period = int(terminate[0:4]) - int(begin[0:4]) + 1\n",
    "\n",
    "x_train = np.linspace(int(begin[0:4]), int(terminate[0:4]), time_period)\n",
    "y_train = get_yearly(np.array(apple.dividends), time_period)"
   ]
  },
  {
   "cell_type": "markdown",
   "metadata": {},
   "source": [
    "**View the Variables**\n",
    "\n",
    "The code below prints the arrays y_train and x_train."
   ]
  },
  {
   "cell_type": "code",
   "execution_count": 98,
   "metadata": {},
   "outputs": [
    {
     "name": "stdout",
     "output_type": "stream",
     "text": [
      "x_train: [2013. 2014. 2015. 2016. 2017. 2018. 2019. 2020. 2021. 2022.]\n",
      "y_train: [0.42143    0.461429   0.5075     0.5575     0.615      0.705\n",
      " 0.76       0.8075     0.865      0.90666667]\n"
     ]
    }
   ],
   "source": [
    "print (\"x_train:\", x_train)\n",
    "print (\"y_train:\", y_train)"
   ]
  },
  {
   "cell_type": "markdown",
   "metadata": {},
   "source": [
    "**Visualize the Data**\n",
    "\n",
    "I used scatter plot to visualize the data."
   ]
  },
  {
   "cell_type": "code",
   "execution_count": 99,
   "metadata": {},
   "outputs": [
    {
     "data": {
      "image/png": "[encoded data removed]",
      "text/plain": [
       "<Figure size 432x288 with 1 Axes>"
      ]
     },
     "metadata": {
      "needs_background": "light"
     },
     "output_type": "display_data"
    }
   ],
   "source": [
    "plt.scatter(x_train, y_train, marker='x', c='r') \n",
    "# Set the title\n",
    "plt.title(\"Dividends vs Date\")\n",
    "# Set the y-axis label\n",
    "plt.ylabel(\"Dividends\")\n",
    "# Set the x-axis label\n",
    "plt.xlabel(\"Date\")\n",
    "plt.show()"
   ]
  },
  {
   "cell_type": "markdown",
   "metadata": {},
   "source": [
    "# Normalizing Data\n",
    "\n",
    "Data normalization is a technique used to manipulate data before implementing machine learning techniques. It provides many advantages including faster implementation of gradient descent. After z-score normalization, all features will have a mean of 0 and a standard deviation of 1."
   ]
  },
  {
   "cell_type": "code",
   "execution_count": 100,
   "metadata": {},
   "outputs": [],
   "source": [
    "def zscore_normalize_features(X):\n",
    "    \"\"\"\n",
    "    Normalize features for faster gradient descent\n",
    "    Args:\n",
    "      X (ndarray): array of year which will be analysed\n",
    "    Returns:\n",
    "      X_norm (ndarray): Array of normalised features\n",
    "      mu (scalar): average value of array of years\n",
    "      sigma (scalar): standard deviation of values of years\n",
    "    \"\"\"\n",
    "    # find the mean of each column/feature\n",
    "    mu     = np.mean(X, axis=0)                 # mu will have shape (n,)\n",
    "    # find the standard deviation of each column/feature\n",
    "    sigma  = np.std(X, axis=0)                  # sigma will have shape (n,)\n",
    "    # element-wise, subtract mu for that column from each example, divide by std for that column\n",
    "    X_norm = (X - mu) / sigma      \n",
    "    return (X_norm, mu, sigma)"
   ]
  },
  {
   "cell_type": "code",
   "execution_count": 101,
   "metadata": {},
   "outputs": [
    {
     "name": "stdout",
     "output_type": "stream",
     "text": [
      "Normalized x_train: [-1.5666989  -1.21854359 -0.87038828 -0.52223297 -0.17407766  0.17407766\n",
      "  0.52223297  0.87038828  1.21854359  1.5666989 ]\n"
     ]
    }
   ],
   "source": [
    "x_train_norm, mu, sigma = zscore_normalize_features(x_train)\n",
    "print (\"Normalized x_train:\", x_train_norm)"
   ]
  },
  {
   "cell_type": "code",
   "execution_count": 102,
   "metadata": {},
   "outputs": [
    {
     "data": {
      "image/png": "[encoded data removed]",
      "text/plain": [
       "<Figure size 432x288 with 1 Axes>"
      ]
     },
     "metadata": {
      "needs_background": "light"
     },
     "output_type": "display_data"
    }
   ],
   "source": [
    "plt.scatter(x_train_norm, y_train, marker='x', c='r') \n",
    "# Set the title\n",
    "plt.title(\"Dividends vs Date\")\n",
    "# Set the y-axis label\n",
    "plt.ylabel(\"Dividends\")\n",
    "# Set the x-axis label\n",
    "plt.xlabel(\"Date\")\n",
    "plt.show()"
   ]
  },
  {
   "cell_type": "markdown",
   "metadata": {},
   "source": [
    "# Computing Cost\n",
    "\n",
    "Gradient descent involves repeated steps to adjust the value of parameters w and b to gradually get smaller cost (the cost being the difference between the prediction and ground truth). The function below calculates the cost at the given parameter values. The cost function is based on mean squared loss function. The function below iterates over each training sample to get a total loss."
   ]
  },
  {
   "cell_type": "code",
   "execution_count": 103,
   "metadata": {},
   "outputs": [],
   "source": [
    "def compute_cost(X, y, w, b): \n",
    "    \"\"\"\n",
    "    compute cost\n",
    "    Args:\n",
    "      X (ndarray (m,n)): Data, m examples with n features\n",
    "      y (ndarray (m,)) : target values\n",
    "      w (ndarray (n,)) : model parameters  \n",
    "      b (scalar)       : model parameter\n",
    "      \n",
    "    Returns:\n",
    "      cost (scalar): cost\n",
    "    \"\"\"\n",
    "    m = X.shape[0]\n",
    "    cost = 0.0\n",
    "    for i in range(m):                                \n",
    "        f_wb_i = np.dot(X[i], w) + b\n",
    "        cost += (f_wb_i - y[i])**2\n",
    "    cost = cost / (2 * m)   \n",
    "    return cost"
   ]
  },
  {
   "cell_type": "code",
   "execution_count": 104,
   "metadata": {},
   "outputs": [
    {
     "name": "stdout",
     "output_type": "stream",
     "text": [
      "Cost at initial w: 0.07100034140260557\n"
     ]
    }
   ],
   "source": [
    "initial_w = 0\n",
    "initial_b = 1\n",
    "\n",
    "cost = compute_cost(x_train_norm, y_train, initial_w, initial_b)\n",
    "print(f'Cost at initial w: {cost}')"
   ]
  },
  {
   "cell_type": "markdown",
   "metadata": {},
   "source": [
    "# Gradient Descent\n",
    "\n",
    "**Computing the Gradient**\n",
    "\n",
    "Next I will write a function that computes the gradient (partial derivative) with respect to the parameters. The function iterates over each training sample to derive the two required gradients."
   ]
  },
  {
   "cell_type": "code",
   "execution_count": 105,
   "metadata": {},
   "outputs": [],
   "source": [
    "def compute_gradient(x, y, w, b): \n",
    "    \"\"\"\n",
    "    Computes the gradient for linear regression\n",
    "    Args:\n",
    "      x (ndarray): Shape (m,) Input to the model (Population of cities) \n",
    "      y (ndarray): Shape (m,) Label (Actual profits for the cities)\n",
    "      w, b (scalar): Parameters of the model  \n",
    "    Returns\n",
    "      dj_dw (scalar): The gradient of the cost w.r.t. the parameters w\n",
    "      dj_db (scalar): The gradient of the cost w.r.t. the parameter b     \n",
    "     \"\"\"\n",
    "\n",
    "    m = x.shape[0]\n",
    "\n",
    "    dj_dw = 0\n",
    "    dj_db = 0\n",
    "    \n",
    "    for i in range(m):  \n",
    "        f_wb = w * x[i] + b \n",
    "        dj_dw_i = (f_wb - y[i]) * x[i] \n",
    "        dj_db_i = f_wb - y[i] \n",
    "        dj_db += dj_db_i\n",
    "        dj_dw += dj_dw_i \n",
    "    dj_dw = dj_dw / m \n",
    "    dj_db = dj_db / m \n",
    "\n",
    "    return dj_dw, dj_db"
   ]
  },
  {
   "cell_type": "code",
   "execution_count": 106,
   "metadata": {},
   "outputs": [
    {
     "name": "stdout",
     "output_type": "stream",
     "text": [
      "Gradient at initial w, b (zeros): -0.16345242584583305 0.33929743333333334\n"
     ]
    }
   ],
   "source": [
    "initial_w = 0\n",
    "initial_b = 1\n",
    "\n",
    "tmp_dj_dw, tmp_dj_db = compute_gradient(x_train_norm, y_train, initial_w, initial_b)\n",
    "print('Gradient at initial w, b (zeros):', tmp_dj_dw, tmp_dj_db)"
   ]
  },
  {
   "cell_type": "markdown",
   "metadata": {},
   "source": [
    "**Learning Parameters using gradient descent**\n",
    "\n",
    "The function below finds the optimal parameters for the linear regression model using batch gradient descent."
   ]
  },
  {
   "cell_type": "code",
   "execution_count": 107,
   "metadata": {},
   "outputs": [],
   "source": [
    "def gradient_descent(x, y, w_in, b_in, cost_function, gradient_function, alpha, num_iters): \n",
    "    \"\"\"\n",
    "    Performs batch gradient descent to learn theta. Updates theta by taking num_iters gradient steps with learning rate alpha\n",
    "    Args:\n",
    "      x :    (ndarray): Shape (m,)\n",
    "      y :    (ndarray): Shape (m,)\n",
    "      w_in, b_in : (scalar) Initial values of parameters of the model\n",
    "      cost_function: function to compute cost\n",
    "      gradient_function: function to compute the gradient\n",
    "      alpha : (float) Learning rate\n",
    "      num_iters : (int) number of iterations to run gradient descent\n",
    "    Returns\n",
    "      w : (ndarray): Shape (1,) Updated values of parameters of the model after\n",
    "          running gradient descent\n",
    "      b : (scalar)                Updated value of parameter of the model after\n",
    "          running gradient descent\n",
    "    \"\"\"\n",
    "    \n",
    "    # number of training examples\n",
    "    m = len(x)\n",
    "    \n",
    "    # An array to store cost J and w's at each iteration — primarily for graphing later\n",
    "    J_history = []\n",
    "    w_history = []\n",
    "    w = copy.deepcopy(w_in)  #avoid modifying global w within function\n",
    "    b = b_in\n",
    "    \n",
    "    for i in range(num_iters):\n",
    "\n",
    "        # Calculate the gradient and update the parameters\n",
    "        dj_dw, dj_db = gradient_function(x, y, w, b )  \n",
    "\n",
    "        # Update Parameters using w, b, alpha and gradient\n",
    "        w = w - alpha * dj_dw               \n",
    "        b = b - alpha * dj_db               \n",
    "\n",
    "        # Save cost J at each iteration\n",
    "        if i<100000:      # prevent resource exhaustion \n",
    "            cost =  cost_function(x, y, w, b)\n",
    "            J_history.append(cost)\n",
    "\n",
    "        # Print cost every at intervals 10 times or as many iterations if < 10\n",
    "        if i% math.ceil(num_iters/10) == 0:\n",
    "            w_history.append(w)\n",
    "            print(f\"Iteration {i:4}: Cost {float(J_history[-1]):8.2f}   \")\n",
    "        \n",
    "    return w, b, J_history, w_history #return w and J,w history for graphing"
   ]
  },
  {
   "cell_type": "code",
   "execution_count": 108,
   "metadata": {},
   "outputs": [
    {
     "name": "stdout",
     "output_type": "stream",
     "text": [
      "Iteration    0: Cost     0.07   \n",
      "Iteration  150: Cost     0.00   \n",
      "Iteration  300: Cost     0.00   \n",
      "Iteration  450: Cost     0.00   \n",
      "Iteration  600: Cost     0.00   \n",
      "Iteration  750: Cost     0.00   \n",
      "Iteration  900: Cost     0.00   \n",
      "Iteration 1050: Cost     0.00   \n",
      "Iteration 1200: Cost     0.00   \n",
      "Iteration 1350: Cost     0.00   \n",
      "w,b found by gradient descent: 0.1634523794815801 0.6607026629104021\n"
     ]
    }
   ],
   "source": [
    "# initialize fitting parameters. Recall that the shape of w is (n,)\n",
    "initial_w = 0.\n",
    "initial_b = 1.\n",
    "\n",
    "# some gradient descent settings\n",
    "iterations = 1500\n",
    "alpha = 0.01\n",
    "\n",
    "w,b,J_hist,W_hist = gradient_descent(x_train_norm, y_train, initial_w, initial_b, compute_cost, compute_gradient, alpha, iterations)\n",
    "print(\"w,b found by gradient descent:\", w, b)"
   ]
  },
  {
   "cell_type": "markdown",
   "metadata": {},
   "source": [
    "**Visualising Prediction**\n",
    "\n",
    "Below I plot the cost vs iteration and the predicted values with the ground truth data points."
   ]
  },
  {
   "cell_type": "code",
   "execution_count": 109,
   "metadata": {},
   "outputs": [
    {
     "data": {
      "image/png": "[encoded data removed]",
      "text/plain": [
       "<Figure size 864x288 with 2 Axes>"
      ]
     },
     "metadata": {
      "needs_background": "light"
     },
     "output_type": "display_data"
    }
   ],
   "source": [
    "# plot cost versus iteration  \n",
    "fig, (ax1, ax2) = plt.subplots(1, 2, constrained_layout=True, figsize=(12, 4))\n",
    "ax1.plot(J_hist)\n",
    "ax2.plot(100 + np.arange(len(J_hist[100:])), J_hist[100:])\n",
    "ax1.set_title(\"Cost vs. iteration\");  ax2.set_title(\"Cost vs. iteration (tail)\")\n",
    "ax1.set_ylabel('Cost')             ;  ax2.set_ylabel('Cost') \n",
    "ax1.set_xlabel('iteration step')   ;  ax2.set_xlabel('iteration step') \n",
    "plt.show()"
   ]
  },
  {
   "cell_type": "code",
   "execution_count": 110,
   "metadata": {},
   "outputs": [],
   "source": [
    "prediction_current = (w*x_train_norm)+b"
   ]
  },
  {
   "cell_type": "code",
   "execution_count": 111,
   "metadata": {},
   "outputs": [
    {
     "data": {
      "image/png": "[encoded data removed]",
      "text/plain": [
       "<Figure size 432x288 with 1 Axes>"
      ]
     },
     "metadata": {
      "needs_background": "light"
     },
     "output_type": "display_data"
    }
   ],
   "source": [
    "plt.plot(x_train, prediction_current, c='r') \n",
    "\n",
    "plt.scatter(x_train, y_train, marker='x', c='r')\n",
    "# Set the title\n",
    "plt.title(\"Dividends vs Date\")\n",
    "# Set the y-axis label\n",
    "plt.ylabel(\"Dividends\")\n",
    "# Set the x-axis label\n",
    "plt.xlabel(\"Date\")\n",
    "plt.show()"
   ]
  },
  {
   "cell_type": "markdown",
   "metadata": {},
   "source": [
    "# Fair Share Price Prediction Using Dividend Discount Model\n",
    "\n",
    "**Find dividend growth rate**\n",
    "\n",
    "Below, I used the Dividend Discount Model to forecast the future fair share prices of stocks. I began by writing a function to compute future dividend growth rates."
   ]
  },
  {
   "cell_type": "code",
   "execution_count": 112,
   "metadata": {},
   "outputs": [],
   "source": [
    "def growth_rate(prediction):\n",
    "    \"\"\"\n",
    "    Derive annual predicted growth rate based on dividend data\n",
    "    Args:\n",
    "      prediction (ndarray): predicted dividends\n",
    "    Returns:\n",
    "      prediction_growth (ndarray): predicted growth rate\n",
    "    \"\"\"\n",
    "    prediction_period = len(prediction)\n",
    "    predicted_growth = np.zeros(prediction_period-1)\n",
    "    for i in range (1, prediction_period):\n",
    "        predicted_growth[i-1] = prediction[i]/prediction[i-1] - 1\n",
    "    return predicted_growth"
   ]
  },
  {
   "cell_type": "code",
   "execution_count": 113,
   "metadata": {},
   "outputs": [
    {
     "name": "stdout",
     "output_type": "stream",
     "text": [
      "[0.06207226 0.05844448 0.05521733 0.05232792 0.04972587 0.04737034\n",
      " 0.04522788 0.04327083]\n"
     ]
    }
   ],
   "source": [
    "end_predict = 2030\n",
    "beg_predict = int(terminate[0:4])+1\n",
    "\n",
    "x_predict = np.linspace(beg_predict, end_predict, (end_predict-beg_predict)+1)\n",
    "x_predict_1 = np.linspace(beg_predict-1, end_predict, (end_predict-beg_predict)+2)\n",
    "x_predict_norm = (x_predict - mu) / sigma\n",
    "x_predict_norm_1 = (x_predict_1 - mu) / sigma\n",
    "prediction = (w*x_predict_norm)+b\n",
    "prediction_1 = (w*x_predict_norm_1)+b\n",
    "prediction_growth = growth_rate(prediction_1)\n",
    "\n",
    "print(prediction_growth)\n"
   ]
  },
  {
   "cell_type": "code",
   "execution_count": 114,
   "metadata": {},
   "outputs": [
    {
     "data": {
      "image/png": "[encoded data removed]",
      "text/plain": [
       "<Figure size 432x288 with 1 Axes>"
      ]
     },
     "metadata": {
      "needs_background": "light"
     },
     "output_type": "display_data"
    }
   ],
   "source": [
    "plt.plot(x_predict, prediction_growth, c='r') \n",
    "# Set the title\n",
    "plt.title(\"Growth Rate vs Date\")\n",
    "# Set the y-axis label\n",
    "plt.ylabel(\"Growth Rate\")\n",
    "# Set the x-axis label\n",
    "plt.xlabel(\"Date\")\n",
    "plt.show()"
   ]
  },
  {
   "cell_type": "markdown",
   "metadata": {},
   "source": [
    "**Find Cost of Equity**\n",
    "\n",
    "Next, I wrote a function to calculate cost of equity."
   ]
  },
  {
   "cell_type": "code",
   "execution_count": 115,
   "metadata": {},
   "outputs": [],
   "source": [
    "def cost_of_equity(Market_Ticker, Stock_Ticker, risk_free_rate, term):\n",
    "    \"\"\"\n",
    "    calculate cost of equity\n",
    "    Args:\n",
    "      Market_Ticker (string): Ticker for ETF which represents market stock being analysed is in\n",
    "      Stock_Ticker (string): Ticker for Stock\n",
    "      risk_free_rate (scalar): the rate of return of an investment with zero risk. The risk-free rate represents the interest an investor would expect from an absolutely risk-free investment over a specified period of time.\n",
    "      term (string): end year for analysis\n",
    "    Returns:\n",
    "      cost_of_equity (scalar): the return a firm theoretically pays to its equity shareholders to compensate for the risk they undertake by investing in them\n",
    "    \"\"\"\n",
    "    period = \"1wk\"\n",
    "    VGT = yf.Ticker(f\"{Market_Ticker}\")\n",
    "    market_hist = VGT.history(start=\"2005-01-01\", end=f\"{term}\", interval=f\"{period}\")\n",
    "    market_return = ((market_hist[\"Close\"][-1]/market_hist[\"Close\"][0])**(1/(int(terminate[:4])-2005)))-1\n",
    "    Tick = yf.Ticker(f\"{Stock_Ticker}\")\n",
    "    beta = Tick.info[\"beta\"]\n",
    "    cost_of_equity = risk_free_rate + (beta * (market_return - risk_free_rate))\n",
    "    return cost_of_equity"
   ]
  },
  {
   "cell_type": "code",
   "execution_count": 116,
   "metadata": {},
   "outputs": [
    {
     "name": "stdout",
     "output_type": "stream",
     "text": [
      "Cost of Equity: 0.16359883094425332\n"
     ]
    }
   ],
   "source": [
    "#risk free rate was 3% as of 2019\n",
    "Risk_Free = 0.03\n",
    "\n",
    "# Define various variables including the stock name, start and end date of data to be stored, and the interval\n",
    "# A popular tech ETF \"Vanguard Information Technology Index Fund ETF\" was chosen to represent the market apple is in\n",
    "market_ticker = \"VGT\"\n",
    "period = \"1wk\"\n",
    "\n",
    "cost_equity = cost_of_equity(market_ticker, ticker, Risk_Free, terminate)\n",
    "\n",
    "print(f\"Cost of Equity: {cost_equity}\")"
   ]
  },
  {
   "cell_type": "markdown",
   "metadata": {},
   "source": [
    "**Calulating Fair Share Price**\n",
    "\n",
    "Next, I calculated the fair share price of apple stock."
   ]
  },
  {
   "cell_type": "code",
   "execution_count": 117,
   "metadata": {},
   "outputs": [],
   "source": [
    "def Fair_Share_Price(prediction_div, prediction_growth, cost_of_equity):\n",
    "    Fair_Share = (prediction_div * (prediction_growth+1))/((prediction_growth-cost_of_equity)*(-1))\n",
    "    return Fair_Share"
   ]
  },
  {
   "cell_type": "code",
   "execution_count": 118,
   "metadata": {},
   "outputs": [
    {
     "data": {
      "image/png": "[encoded data removed]",
      "text/plain": [
       "<Figure size 432x288 with 1 Axes>"
      ]
     },
     "metadata": {
      "needs_background": "light"
     },
     "output_type": "display_data"
    }
   ],
   "source": [
    "plt.plot(x_predict, Fair_Share_Price(prediction, prediction_growth, cost_equity), c='r') \n",
    "# Set the title\n",
    "plt.title(\"Fair Share Price vs Date\")\n",
    "# Set the y-axis label\n",
    "plt.ylabel(\"Fair Share Price\")\n",
    "# Set the x-axis label\n",
    "plt.xlabel(\"Date\")\n",
    "plt.show()"
   ]
  }
 ],
 "metadata": {
  "kernelspec": {
   "display_name": "Python 3.8.5 ('base')",
   "language": "python",
   "name": "python3"
  },
  "language_info": {
   "codemirror_mode": {
    "name": "ipython",
    "version": 3
   },
   "file_extension": ".py",
   "mimetype": "text/x-python",
   "name": "python",
   "nbconvert_exporter": "python",
   "pygments_lexer": "ipython3",
   "version": "3.8.5"
  },
  "orig_nbformat": 4,
  "vscode": {
   "interpreter": {
    "hash": "40d3a090f54c6569ab1632332b64b2c03c39dcf918b08424e98f38b5ae0af88f"
   }
  }
 },
 "nbformat": 4,
 "nbformat_minor": 2
}
