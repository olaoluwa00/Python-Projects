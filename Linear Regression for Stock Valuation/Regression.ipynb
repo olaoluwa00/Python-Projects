{
 "cells": [
  {
   "cell_type": "markdown",
   "metadata": {},
   "source": [
    "# Polynomial Regression for Stock Valuation with Dividend Discount Model\n",
    "\n",
    "# Contents\n",
    "* Introduction\n",
    "* Dataset\n"
   ]
  },
  {
   "cell_type": "markdown",
   "metadata": {},
   "source": [
    "# Introduction\n",
    "\n",
    "The Dividend Discount Model is a method to calculate the fair share price of a stock. This model uses the dividend growth rate and cost of equity to calculate the fair share price of Apple stock. In this project, I implemented regression with one variable to predict the dividend growth rate. I also implemented regression to predict future stock prices. This program could be used to inform investors when to buy or sell Apple stock based on whether the stock is expected to be above or below the fair share price.\n",
    "\n",
    "The content for this project was derived from Andrew Ng's Machine Learning course and Bekhruzbek Ochilov's Stock Valuation (using the Dividend Discount Model) from Coursera."
   ]
  },
  {
   "cell_type": "code",
   "execution_count": 157,
   "metadata": {},
   "outputs": [
    {
     "name": "stdout",
     "output_type": "stream",
     "text": [
      "Requirement already satisfied: yfinance in /opt/anaconda3/lib/python3.8/site-packages (0.1.74)\n",
      "Requirement already satisfied: numpy>=1.15 in /opt/anaconda3/lib/python3.8/site-packages (from yfinance) (1.19.2)\n",
      "Requirement already satisfied: requests>=2.26 in /opt/anaconda3/lib/python3.8/site-packages (from yfinance) (2.28.1)\n",
      "Requirement already satisfied: lxml>=4.5.1 in /opt/anaconda3/lib/python3.8/site-packages (from yfinance) (4.6.1)\n",
      "Requirement already satisfied: pandas>=0.24.0 in /opt/anaconda3/lib/python3.8/site-packages (from yfinance) (1.1.3)\n",
      "Requirement already satisfied: multitasking>=0.0.7 in /opt/anaconda3/lib/python3.8/site-packages (from yfinance) (0.0.11)\n",
      "Requirement already satisfied: python-dateutil>=2.7.3 in /opt/anaconda3/lib/python3.8/site-packages (from pandas>=0.24.0->yfinance) (2.8.1)\n",
      "Requirement already satisfied: pytz>=2017.2 in /opt/anaconda3/lib/python3.8/site-packages (from pandas>=0.24.0->yfinance) (2020.1)\n",
      "Requirement already satisfied: idna<4,>=2.5 in /opt/anaconda3/lib/python3.8/site-packages (from requests>=2.26->yfinance) (2.10)\n",
      "Requirement already satisfied: charset-normalizer<3,>=2 in /opt/anaconda3/lib/python3.8/site-packages (from requests>=2.26->yfinance) (2.1.1)\n",
      "Requirement already satisfied: urllib3<1.27,>=1.21.1 in /opt/anaconda3/lib/python3.8/site-packages (from requests>=2.26->yfinance) (1.25.11)\n",
      "Requirement already satisfied: certifi>=2017.4.17 in /opt/anaconda3/lib/python3.8/site-packages (from requests>=2.26->yfinance) (2020.6.20)\n",
      "Requirement already satisfied: six>=1.5 in /opt/anaconda3/lib/python3.8/site-packages (from python-dateutil>=2.7.3->pandas>=0.24.0->yfinance) (1.15.0)\n",
      "Note: you may need to restart the kernel to use updated packages.\n"
     ]
    }
   ],
   "source": [
    "%pip install yfinance\n",
    "\n",
    "import numpy as np\n",
    "import pandas as pd\n",
    "import matplotlib.pyplot as plt\n",
    "import copy\n",
    "import math\n",
    "import time\n",
    "import datetime\n",
    "import yfinance as yf\n",
    "\n",
    "%matplotlib inline"
   ]
  },
  {
   "cell_type": "markdown",
   "metadata": {},
   "source": [
    "# Dataset\n",
    "\n",
    "**Retreiving Data**\n",
    "\n",
    "I began by loading the raw data using the yfinance library. I then displayed the available historical data from yahoo about apple stock."
   ]
  },
  {
   "cell_type": "code",
   "execution_count": 158,
   "metadata": {},
   "outputs": [
    {
     "data": {
      "text/html": [
       "<div>\n",
       "<style scoped>\n",
       "    .dataframe tbody tr th:only-of-type {\n",
       "        vertical-align: middle;\n",
       "    }\n",
       "\n",
       "    .dataframe tbody tr th {\n",
       "        vertical-align: top;\n",
       "    }\n",
       "\n",
       "    .dataframe thead th {\n",
       "        text-align: right;\n",
       "    }\n",
       "</style>\n",
       "<table border=\"1\" class=\"dataframe\">\n",
       "  <thead>\n",
       "    <tr style=\"text-align: right;\">\n",
       "      <th></th>\n",
       "      <th>Open</th>\n",
       "      <th>High</th>\n",
       "      <th>Low</th>\n",
       "      <th>Close</th>\n",
       "      <th>Volume</th>\n",
       "      <th>Dividends</th>\n",
       "      <th>Stock Splits</th>\n",
       "    </tr>\n",
       "    <tr>\n",
       "      <th>Date</th>\n",
       "      <th></th>\n",
       "      <th></th>\n",
       "      <th></th>\n",
       "      <th></th>\n",
       "      <th></th>\n",
       "      <th></th>\n",
       "      <th></th>\n",
       "    </tr>\n",
       "  </thead>\n",
       "  <tbody>\n",
       "    <tr>\n",
       "      <th>2013-01-01</th>\n",
       "      <td>17.038156</td>\n",
       "      <td>17.074459</td>\n",
       "      <td>15.850020</td>\n",
       "      <td>16.117674</td>\n",
       "      <td>1.991973e+09</td>\n",
       "      <td>0.0</td>\n",
       "      <td>0.0</td>\n",
       "    </tr>\n",
       "    <tr>\n",
       "      <th>2013-01-08</th>\n",
       "      <td>16.281043</td>\n",
       "      <td>16.363493</td>\n",
       "      <td>15.336564</td>\n",
       "      <td>15.436243</td>\n",
       "      <td>2.552172e+09</td>\n",
       "      <td>0.0</td>\n",
       "      <td>0.0</td>\n",
       "    </tr>\n",
       "    <tr>\n",
       "      <th>2013-01-15</th>\n",
       "      <td>15.330099</td>\n",
       "      <td>15.713121</td>\n",
       "      <td>14.871088</td>\n",
       "      <td>15.382400</td>\n",
       "      <td>2.494178e+09</td>\n",
       "      <td>0.0</td>\n",
       "      <td>0.0</td>\n",
       "    </tr>\n",
       "    <tr>\n",
       "      <th>2013-01-22</th>\n",
       "      <td>15.522685</td>\n",
       "      <td>15.843561</td>\n",
       "      <td>13.382685</td>\n",
       "      <td>13.838927</td>\n",
       "      <td>4.777452e+09</td>\n",
       "      <td>0.0</td>\n",
       "      <td>0.0</td>\n",
       "    </tr>\n",
       "    <tr>\n",
       "      <th>2013-01-29</th>\n",
       "      <td>14.105662</td>\n",
       "      <td>14.231798</td>\n",
       "      <td>13.598042</td>\n",
       "      <td>13.607887</td>\n",
       "      <td>2.324249e+09</td>\n",
       "      <td>0.0</td>\n",
       "      <td>0.0</td>\n",
       "    </tr>\n",
       "    <tr>\n",
       "      <th>...</th>\n",
       "      <td>...</td>\n",
       "      <td>...</td>\n",
       "      <td>...</td>\n",
       "      <td>...</td>\n",
       "      <td>...</td>\n",
       "      <td>...</td>\n",
       "      <td>...</td>\n",
       "    </tr>\n",
       "    <tr>\n",
       "      <th>2022-08-09</th>\n",
       "      <td>164.020004</td>\n",
       "      <td>173.389999</td>\n",
       "      <td>163.250000</td>\n",
       "      <td>173.190002</td>\n",
       "      <td>3.125863e+08</td>\n",
       "      <td>0.0</td>\n",
       "      <td>0.0</td>\n",
       "    </tr>\n",
       "    <tr>\n",
       "      <th>2022-08-16</th>\n",
       "      <td>172.779999</td>\n",
       "      <td>176.149994</td>\n",
       "      <td>167.139999</td>\n",
       "      <td>167.570007</td>\n",
       "      <td>3.375823e+08</td>\n",
       "      <td>0.0</td>\n",
       "      <td>0.0</td>\n",
       "    </tr>\n",
       "    <tr>\n",
       "      <th>2022-08-23</th>\n",
       "      <td>167.080002</td>\n",
       "      <td>171.050003</td>\n",
       "      <td>159.820007</td>\n",
       "      <td>161.380005</td>\n",
       "      <td>3.114818e+08</td>\n",
       "      <td>0.0</td>\n",
       "      <td>0.0</td>\n",
       "    </tr>\n",
       "    <tr>\n",
       "      <th>2022-08-30</th>\n",
       "      <td>162.130005</td>\n",
       "      <td>162.559998</td>\n",
       "      <td>154.669998</td>\n",
       "      <td>155.809998</td>\n",
       "      <td>3.170324e+08</td>\n",
       "      <td>0.0</td>\n",
       "      <td>0.0</td>\n",
       "    </tr>\n",
       "    <tr>\n",
       "      <th>2022-09-06</th>\n",
       "      <td>156.470001</td>\n",
       "      <td>157.820007</td>\n",
       "      <td>152.679993</td>\n",
       "      <td>157.369995</td>\n",
       "      <td>3.141170e+08</td>\n",
       "      <td>0.0</td>\n",
       "      <td>0.0</td>\n",
       "    </tr>\n",
       "  </tbody>\n",
       "</table>\n",
       "<p>547 rows × 7 columns</p>\n",
       "</div>"
      ],
      "text/plain": [
       "                  Open        High         Low       Close        Volume  \\\n",
       "Date                                                                       \n",
       "2013-01-01   17.038156   17.074459   15.850020   16.117674  1.991973e+09   \n",
       "2013-01-08   16.281043   16.363493   15.336564   15.436243  2.552172e+09   \n",
       "2013-01-15   15.330099   15.713121   14.871088   15.382400  2.494178e+09   \n",
       "2013-01-22   15.522685   15.843561   13.382685   13.838927  4.777452e+09   \n",
       "2013-01-29   14.105662   14.231798   13.598042   13.607887  2.324249e+09   \n",
       "...                ...         ...         ...         ...           ...   \n",
       "2022-08-09  164.020004  173.389999  163.250000  173.190002  3.125863e+08   \n",
       "2022-08-16  172.779999  176.149994  167.139999  167.570007  3.375823e+08   \n",
       "2022-08-23  167.080002  171.050003  159.820007  161.380005  3.114818e+08   \n",
       "2022-08-30  162.130005  162.559998  154.669998  155.809998  3.170324e+08   \n",
       "2022-09-06  156.470001  157.820007  152.679993  157.369995  3.141170e+08   \n",
       "\n",
       "            Dividends  Stock Splits  \n",
       "Date                                 \n",
       "2013-01-01        0.0           0.0  \n",
       "2013-01-08        0.0           0.0  \n",
       "2013-01-15        0.0           0.0  \n",
       "2013-01-22        0.0           0.0  \n",
       "2013-01-29        0.0           0.0  \n",
       "...               ...           ...  \n",
       "2022-08-09        0.0           0.0  \n",
       "2022-08-16        0.0           0.0  \n",
       "2022-08-23        0.0           0.0  \n",
       "2022-08-30        0.0           0.0  \n",
       "2022-09-06        0.0           0.0  \n",
       "\n",
       "[547 rows x 7 columns]"
      ]
     },
     "execution_count": 158,
     "metadata": {},
     "output_type": "execute_result"
    }
   ],
   "source": [
    "# Define various variables including the stock name, start and end date of data to be stored, and the interval \n",
    "ticker = \"AAPL\"\n",
    "begin = \"2013-01-02\"\n",
    "terminate = \"2022-09-10\"\n",
    "period = \"1wk\"\n",
    "\n",
    "apple = yf.Ticker(f\"{ticker}\")\n",
    "hist = apple.history(start=f\"{begin}\", end=f\"{terminate}\", interval=f\"{period}\")\n",
    "hist"
   ]
  },
  {
   "cell_type": "markdown",
   "metadata": {},
   "source": [
    "**Loading the Dataset**\n",
    "\n",
    "I then loaded the relevant data for the task, converting these values into useful ones.\n",
    "* y_train_close is the closing stock value of the corresponding date.\n",
    "* x_train_close is the date of the corresponding Apple stock closing value.\n",
    "* y_train_div is the dividends from the corresponding year.\n",
    "* x_train_div is the year of the corresponding Apple stock dividends value."
   ]
  },
  {
   "cell_type": "code",
   "execution_count": 159,
   "metadata": {},
   "outputs": [
    {
     "name": "stdout",
     "output_type": "stream",
     "text": [
      "547\n"
     ]
    }
   ],
   "source": [
    "# y value closing stock price dataset\n",
    "df1 = hist[\"Close\"]\n",
    "y_train_close = np.array(df1)\n",
    "\n",
    "print(len(y_train_close))"
   ]
  },
  {
   "cell_type": "code",
   "execution_count": 160,
   "metadata": {},
   "outputs": [],
   "source": [
    "data = df1.reset_index()\n",
    "\n",
    "x_train_close = data[\"Date\"]"
   ]
  },
  {
   "cell_type": "code",
   "execution_count": 161,
   "metadata": {},
   "outputs": [
    {
     "name": "stdout",
     "output_type": "stream",
     "text": [
      "[0.42143    0.461429   0.5075     0.5575     0.615      0.705\n",
      " 0.76       0.8075     0.865      0.90666667]\n"
     ]
    }
   ],
   "source": [
    "# store quarterly dividend data in array, luckily there is no need to account for stock splits as yahoo already does that\n",
    "y_train_div_raw = np.array(apple.dividends)\n",
    "\n",
    "raw_period = len(y_train_div_raw)\n",
    "time_period = int(terminate[0:4]) - int(begin[0:4]) + 1\n",
    "\n",
    "def get_yearly(raw_data, time):\n",
    "    yearly_dataset = np.zeros(time)\n",
    "    length = len(raw_data)\n",
    "    for i in range(0, time):\n",
    "        j = 4*i\n",
    "        if j+4 > length:\n",
    "            if j+3 > length:\n",
    "                if j+2 > length:\n",
    "                    yearly_dataset[i] = np.sum(raw_data[j:j+4]*4)\n",
    "                else:\n",
    "                    yearly_dataset[i] = np.sum(raw_data[j:j+4]*2)\n",
    "            else:\n",
    "                yearly_dataset[i] = np.sum(raw_data[j:j+4]*(4/3))\n",
    "        else:\n",
    "            yearly_dataset[i] = np.sum(raw_data[j:j+4])\n",
    "    return yearly_dataset\n",
    "\n",
    "y_train_div = get_yearly(y_train_div_raw, time_period)\n",
    "\n",
    "print(y_train_div)"
   ]
  },
  {
   "cell_type": "code",
   "execution_count": 162,
   "metadata": {},
   "outputs": [],
   "source": [
    "x_train_div = np.linspace(int(begin[0:4]), int(terminate[0:4]), time_period)"
   ]
  },
  {
   "cell_type": "code",
   "execution_count": 163,
   "metadata": {},
   "outputs": [
    {
     "data": {
      "image/png": "[encoded data removed]",
      "text/plain": [
       "<Figure size 432x288 with 1 Axes>"
      ]
     },
     "metadata": {
      "needs_background": "light"
     },
     "output_type": "display_data"
    }
   ],
   "source": [
    "plt.plot(x_train_close, y_train_close) \n",
    "# Set the title\n",
    "plt.title(\"Stock Close Price vs Date\")\n",
    "# Set the y-axis label\n",
    "plt.ylabel(\"Apple Stock Close Price\")\n",
    "# Set the x-axis label\n",
    "plt.xlabel(\"Date\")\n",
    "plt.show()"
   ]
  },
  {
   "cell_type": "code",
   "execution_count": 164,
   "metadata": {},
   "outputs": [
    {
     "data": {
      "image/png": "[encoded data removed]",
      "text/plain": [
       "<Figure size 432x288 with 1 Axes>"
      ]
     },
     "metadata": {
      "needs_background": "light"
     },
     "output_type": "display_data"
    }
   ],
   "source": [
    "plt.plot(x_train_div, y_train_div, marker='x', c='r') \n",
    "# Set the title\n",
    "plt.title(\"Dividends vs Date\")\n",
    "# Set the y-axis label\n",
    "plt.ylabel(\"Dividends\")\n",
    "# Set the x-axis label\n",
    "plt.xlabel(\"Date\")\n",
    "plt.show()"
   ]
  },
  {
   "cell_type": "code",
   "execution_count": 165,
   "metadata": {},
   "outputs": [
    {
     "name": "stdout",
     "output_type": "stream",
     "text": [
      "[[1.35707034e+09 1.84163991e+18 2.49923490e+27 3.39163755e+36\n",
      "  4.60269072e+45 6.24617506e+54]\n",
      " [1.35767514e+09 1.84328179e+18 2.50257786e+27 3.39768774e+36\n",
      "  4.61295618e+45 6.26289593e+54]\n",
      " [1.35827994e+09 1.84492440e+18 2.50592380e+27 3.40374602e+36\n",
      "  4.62323995e+45 6.27965408e+54]\n",
      " ...\n",
      " [1.66128474e+09 2.75986699e+18 4.58492491e+27 7.61686579e+36\n",
      "  1.26537829e+46 2.10215364e+55]\n",
      " [1.66188954e+09 2.76187684e+18 4.58993424e+27 7.62796370e+36\n",
      "  1.26768331e+46 2.10674963e+55]\n",
      " [1.66249434e+09 2.76388743e+18 4.59494721e+27 7.63907373e+36\n",
      "  1.26999168e+46 2.11135399e+55]]\n"
     ]
    }
   ],
   "source": [
    "def Create_Matrix_Train(arr, order):\n",
    "    l = len(arr)\n",
    "    array = np.zeros(l)\n",
    "    for i in range (l):\n",
    "        date = str(arr[i])[:10]\n",
    "        year = int(date[:4])\n",
    "        month = int(date[5:7])\n",
    "        day = int(date[-2:])\n",
    "        second = int(time.mktime(datetime.datetime(year, month, day, 23, 59).timetuple()))\n",
    "        array[i] = second\n",
    "    length = len(array)\n",
    "    matrix = []\n",
    "    for j in range(length):\n",
    "        for i in range(order):\n",
    "            matrix.append(array[j]**(i+1))\n",
    "    array = np.array(matrix).reshape((length, order))\n",
    "    return array\n",
    "\n",
    "poly_order = 6\n",
    "\n",
    "x_train_close = Create_Matrix_Train(x_train_close, poly_order)\n",
    "\n",
    "print(x_train_close)"
   ]
  },
  {
   "cell_type": "code",
   "execution_count": 166,
   "metadata": {},
   "outputs": [],
   "source": [
    "def zscore_normalize_features(X):\n",
    "\n",
    "  # find the mean of each column/feature\n",
    "  mu     = np.mean(X, axis=0)                 # mu will have shape (n,)\n",
    "  # find the standard deviation of each column/feature\n",
    "  sigma  = np.std(X, axis=0)                  # sigma will have shape (n,)\n",
    "  # element-wise, subtract mu for that column from each example, divide by std for that column\n",
    "  X_norm = (X - mu) / sigma      \n",
    "  return (X_norm, mu, sigma)"
   ]
  },
  {
   "cell_type": "code",
   "execution_count": 167,
   "metadata": {},
   "outputs": [
    {
     "name": "stdout",
     "output_type": "stream",
     "text": [
      "[-1.5666989  -1.21854359 -0.87038828 -0.52223297 -0.17407766  0.17407766\n",
      "  0.52223297  0.87038828  1.21854359  1.5666989 ]\n"
     ]
    }
   ],
   "source": [
    "x_train_close = zscore_normalize_features(x_train_close)[0]\n",
    "x_train_div = zscore_normalize_features(x_train_div)[0]\n",
    "\n",
    "print(x_train_div)"
   ]
  },
  {
   "cell_type": "code",
   "execution_count": 168,
   "metadata": {},
   "outputs": [],
   "source": [
    "def compute_cost(X, y, w, b): \n",
    "    \"\"\"\n",
    "    compute cost\n",
    "    Args:\n",
    "      X (ndarray (m,n)): Data, m examples with n features\n",
    "      y (ndarray (m,)) : target values\n",
    "      w (ndarray (n,)) : model parameters  \n",
    "      b (scalar)       : model parameter\n",
    "      \n",
    "    Returns:\n",
    "      cost (scalar): cost\n",
    "    \"\"\"\n",
    "    m = X.shape[0]\n",
    "    cost = 0.0\n",
    "    for i in range(m):                                \n",
    "        f_wb_i = np.dot(X[i], w) + b           #(n,)(n,) = scalar (see np.dot)\n",
    "        cost += (f_wb_i - y[i])**2       #scalar\n",
    "    cost = cost / (2 * m)                      #scalar    \n",
    "    return cost"
   ]
  },
  {
   "cell_type": "code",
   "execution_count": 175,
   "metadata": {},
   "outputs": [
    {
     "name": "stdout",
     "output_type": "stream",
     "text": [
      "0.07100034140260557\n",
      "Cost at initial w: nan\n"
     ]
    }
   ],
   "source": [
    "# Compute cost with some initial values for paramaters w, b\n",
    "initial_w_close = np.zeros(poly_order)\n",
    "initial_w_div = 0\n",
    "initial_b = 1\n",
    "\n",
    "cost_close = compute_cost(x_train_close, y_train_close, initial_w_close, initial_b)\n",
    "cost_div = compute_cost(x_train_div, y_train_div, initial_w_div, initial_b)\n",
    "print(cost_div)\n",
    "print(f'Cost at initial w: {cost}')"
   ]
  },
  {
   "cell_type": "code",
   "execution_count": 183,
   "metadata": {},
   "outputs": [],
   "source": [
    "def compute_gradient_poly(X, y, w, b): \n",
    "    \"\"\"\n",
    "    Computes the gradient for linear regression \n",
    "    Args:\n",
    "      X (ndarray (m,n)): Data, m examples with n features\n",
    "      y (ndarray (m,)) : target values\n",
    "      w (ndarray (n,)) : model parameters  \n",
    "      b (scalar)       : model parameter\n",
    "      \n",
    "    Returns:\n",
    "      dj_dw (ndarray (n,)): The gradient of the cost w.r.t. the parameters w. \n",
    "      dj_db (scalar):       The gradient of the cost w.r.t. the parameter b. \n",
    "    \"\"\"\n",
    "    m,n = X.shape           #(number of examples, number of features)\n",
    "    dj_dw = np.zeros((n,))\n",
    "    dj_db = 0.\n",
    "\n",
    "    for i in range(m):                             \n",
    "        err = (np.dot(X[i], w) + b) - y[i]   \n",
    "        for j in range(n):                         \n",
    "            dj_dw[j] = dj_dw[j] + err * X[i, j]    \n",
    "        dj_db = dj_db + err                        \n",
    "    dj_dw = dj_dw / m                                \n",
    "    dj_db = dj_db / m                                \n",
    "        \n",
    "    return dj_db, dj_dw"
   ]
  },
  {
   "cell_type": "code",
   "execution_count": 184,
   "metadata": {},
   "outputs": [],
   "source": [
    "def compute_gradient_linear(x, y, w, b): \n",
    "    \"\"\"\n",
    "    Computes the gradient for linear regression \n",
    "    Args:\n",
    "      x (ndarray): Shape (m,) Input to the model (Population of cities) \n",
    "      y (ndarray): Shape (m,) Label (Actual profits for the cities)\n",
    "      w, b (scalar): Parameters of the model  \n",
    "    Returns\n",
    "      dj_dw (scalar): The gradient of the cost w.r.t. the parameters w\n",
    "      dj_db (scalar): The gradient of the cost w.r.t. the parameter b     \n",
    "     \"\"\"\n",
    "    \n",
    "    # Number of training examples\n",
    "    m = x.shape[0]\n",
    "    \n",
    "    # You need to return the following variables correctly\n",
    "    dj_dw = 0\n",
    "    dj_db = 0\n",
    "    \n",
    "    ### START CODE HERE ### \n",
    "    \n",
    "    for i in range(m):  \n",
    "        f_wb = w * x[i] + b \n",
    "        dj_dw_i = (f_wb - y[i]) * x[i] \n",
    "        dj_db_i = f_wb - y[i] \n",
    "        dj_db += dj_db_i\n",
    "        dj_dw += dj_dw_i \n",
    "    dj_dw = dj_dw / m \n",
    "    dj_db = dj_db / m \n",
    "\n",
    "    ### END CODE HERE ### \n",
    "        \n",
    "    return dj_dw, dj_db"
   ]
  },
  {
   "cell_type": "code",
   "execution_count": 187,
   "metadata": {},
   "outputs": [
    {
     "name": "stdout",
     "output_type": "stream",
     "text": [
      "Gradient at initial w, b (zeros): nan [nan nan nan nan nan nan]\n",
      "Gradient at initial w, b (zeros): -0.16345242584583305 0.33929743333333334\n"
     ]
    }
   ],
   "source": [
    "# Compute and display gradient with w initialized to zeroes\n",
    "initial_w_close = np.zeros(poly_order)\n",
    "initial_w_div = 0\n",
    "initial_b = 1\n",
    "\n",
    "tmp_dj_dw_close, tmp_dj_db_close = compute_gradient_poly(x_train_close, y_train_close, initial_w_close, initial_b)\n",
    "tmp_dj_dw_div, tmp_dj_db_div = compute_gradient_linear(x_train_div, y_train_div, initial_w_div, initial_b)\n",
    "#tmp_dj_dw_div, tmp_dj_db_div = compute_gradient(x_train_div, y_train_div, initial_w_div, initial_b)\n",
    "print('Gradient at initial w, b (zeros):', tmp_dj_dw_close, tmp_dj_db_close)\n",
    "print('Gradient at initial w, b (zeros):', tmp_dj_dw_div, tmp_dj_db_div)"
   ]
  },
  {
   "cell_type": "code",
   "execution_count": 188,
   "metadata": {},
   "outputs": [],
   "source": [
    "def gradient_descent(X, y, w_in, b_in, cost_function, gradient_function, alpha, num_iters): \n",
    "    \"\"\"\n",
    "    Performs batch gradient descent to learn theta. Updates theta by taking \n",
    "    num_iters gradient steps with learning rate alpha\n",
    "    \n",
    "    Args:\n",
    "      X (ndarray (m,n))   : Data, m examples with n features\n",
    "      y (ndarray (m,))    : target values\n",
    "      w_in (ndarray (n,)) : initial model parameters  \n",
    "      b_in (scalar)       : initial model parameter\n",
    "      cost_function       : function to compute cost\n",
    "      gradient_function   : function to compute the gradient\n",
    "      alpha (float)       : Learning rate\n",
    "      num_iters (int)     : number of iterations to run gradient descent\n",
    "      \n",
    "    Returns:\n",
    "      w (ndarray (n,)) : Updated values of parameters \n",
    "      b (scalar)       : Updated value of parameter \n",
    "      \"\"\"\n",
    "    \n",
    "    # An array to store cost J and w's at each iteration primarily for graphing later\n",
    "    J_history = []\n",
    "    w = copy.deepcopy(w_in)  #avoid modifying global w within function\n",
    "    b = b_in\n",
    "    \n",
    "    for i in range(num_iters):\n",
    "\n",
    "        # Calculate the gradient and update the parameters\n",
    "        dj_db,dj_dw = gradient_function(X, y, w, b)   ##None\n",
    "\n",
    "        # Update Parameters using w, b, alpha and gradient\n",
    "        w = w - alpha * dj_dw               ##None\n",
    "        b = b - alpha * dj_db               ##None\n",
    "      \n",
    "        # Save cost J at each iteration\n",
    "        if i<100000:      # prevent resource exhaustion \n",
    "            J_history.append( cost_function(X, y, w, b))\n",
    "\n",
    "        # Print cost every at intervals 10 times or as many iterations if < 10\n",
    "        if i% math.ceil(num_iters / 10) == 0:\n",
    "            print(f\"Iteration {i:4d}: Cost {J_history[-1]:8.2f}   \")\n",
    "        \n",
    "    return w, b, J_history #return final w,b and J history for graphing"
   ]
  },
  {
   "cell_type": "code",
   "execution_count": null,
   "metadata": {},
   "outputs": [],
   "source": []
  },
  {
   "cell_type": "code",
   "execution_count": null,
   "metadata": {},
   "outputs": [],
   "source": [
    "# initialize parameters\n",
    "initial_w = np.zeros_like(w_init)\n",
    "initial_b = 0.\n",
    "# some gradient descent settings\n",
    "iterations = 1000\n",
    "alpha = 5.0e-7\n",
    "# run gradient descent \n",
    "w_final, b_final, J_hist = gradient_descent(x_train_div, y_train_div, initial_w, initial_b, compute_cost, compute_gradient, alpha, iterations)\n",
    "print(f\"b,w found by gradient descent: {b_final:0.2f},{w_final} \")\n",
    "m,_ = X_train.shape\n",
    "for i in range(m):\n",
    "    print(f\"prediction: {np.dot(X_train[i], w_final) + b_final:0.2f}, target value: {y_train[i]}\")"
   ]
  },
  {
   "cell_type": "code",
   "execution_count": 215,
   "metadata": {},
   "outputs": [
    {
     "name": "stdout",
     "output_type": "stream",
     "text": [
      "Iteration    0: Cost     0.23   \n",
      "Iteration 15000: Cost     0.23   \n",
      "Iteration 30000: Cost     0.23   \n",
      "Iteration 45000: Cost     0.22   \n",
      "Iteration 60000: Cost     0.22   \n",
      "Iteration 75000: Cost     0.22   \n",
      "Iteration 90000: Cost     0.22   \n",
      "Iteration 105000: Cost     0.21   \n",
      "Iteration 120000: Cost     0.21   \n",
      "Iteration 135000: Cost     0.21   \n",
      "w,b found by gradient descent: 0.0976351632526932 0.0171631065955574\n"
     ]
    }
   ],
   "source": [
    "# initialize fitting parameters. Recall that the shape of w is (n,)\n",
    "initial_w = 0.\n",
    "initial_b = 0.\n",
    "\n",
    "# some gradient descent settings\n",
    "iterations = 150000\n",
    "alpha = 1.0e-6\n",
    "\n",
    "w,b,_ = gradient_descent(x_train_div, y_train_div, initial_w, initial_b, compute_cost, compute_gradient_linear, alpha, iterations)\n",
    "print(\"w,b found by gradient descent:\", w, b)"
   ]
  },
  {
   "cell_type": "code",
   "execution_count": 216,
   "metadata": {},
   "outputs": [
    {
     "ename": "NameError",
     "evalue": "name 'J_hist' is not defined",
     "output_type": "error",
     "traceback": [
      "\u001b[0;31m---------------------------------------------------------------------------\u001b[0m",
      "\u001b[0;31mNameError\u001b[0m                                 Traceback (most recent call last)",
      "\u001b[0;32m<ipython-input-216-f3a8bcc70320>\u001b[0m in \u001b[0;36m<module>\u001b[0;34m\u001b[0m\n\u001b[1;32m      1\u001b[0m \u001b[0;31m# plot cost versus iteration\u001b[0m\u001b[0;34m\u001b[0m\u001b[0;34m\u001b[0m\u001b[0;34m\u001b[0m\u001b[0m\n\u001b[1;32m      2\u001b[0m \u001b[0mfig\u001b[0m\u001b[0;34m,\u001b[0m \u001b[0;34m(\u001b[0m\u001b[0max1\u001b[0m\u001b[0;34m,\u001b[0m \u001b[0max2\u001b[0m\u001b[0;34m)\u001b[0m \u001b[0;34m=\u001b[0m \u001b[0mplt\u001b[0m\u001b[0;34m.\u001b[0m\u001b[0msubplots\u001b[0m\u001b[0;34m(\u001b[0m\u001b[0;36m1\u001b[0m\u001b[0;34m,\u001b[0m \u001b[0;36m2\u001b[0m\u001b[0;34m,\u001b[0m \u001b[0mconstrained_layout\u001b[0m\u001b[0;34m=\u001b[0m\u001b[0;32mTrue\u001b[0m\u001b[0;34m,\u001b[0m \u001b[0mfigsize\u001b[0m\u001b[0;34m=\u001b[0m\u001b[0;34m(\u001b[0m\u001b[0;36m12\u001b[0m\u001b[0;34m,\u001b[0m \u001b[0;36m4\u001b[0m\u001b[0;34m)\u001b[0m\u001b[0;34m)\u001b[0m\u001b[0;34m\u001b[0m\u001b[0;34m\u001b[0m\u001b[0m\n\u001b[0;32m----> 3\u001b[0;31m \u001b[0max1\u001b[0m\u001b[0;34m.\u001b[0m\u001b[0mplot\u001b[0m\u001b[0;34m(\u001b[0m\u001b[0mJ_hist\u001b[0m\u001b[0;34m)\u001b[0m\u001b[0;34m\u001b[0m\u001b[0;34m\u001b[0m\u001b[0m\n\u001b[0m\u001b[1;32m      4\u001b[0m \u001b[0max2\u001b[0m\u001b[0;34m.\u001b[0m\u001b[0mplot\u001b[0m\u001b[0;34m(\u001b[0m\u001b[0;36m100\u001b[0m \u001b[0;34m+\u001b[0m \u001b[0mnp\u001b[0m\u001b[0;34m.\u001b[0m\u001b[0marange\u001b[0m\u001b[0;34m(\u001b[0m\u001b[0mlen\u001b[0m\u001b[0;34m(\u001b[0m\u001b[0mJ_hist\u001b[0m\u001b[0;34m[\u001b[0m\u001b[0;36m100\u001b[0m\u001b[0;34m:\u001b[0m\u001b[0;34m]\u001b[0m\u001b[0;34m)\u001b[0m\u001b[0;34m)\u001b[0m\u001b[0;34m,\u001b[0m \u001b[0mJ_hist\u001b[0m\u001b[0;34m[\u001b[0m\u001b[0;36m100\u001b[0m\u001b[0;34m:\u001b[0m\u001b[0;34m]\u001b[0m\u001b[0;34m)\u001b[0m\u001b[0;34m\u001b[0m\u001b[0;34m\u001b[0m\u001b[0m\n\u001b[1;32m      5\u001b[0m \u001b[0max1\u001b[0m\u001b[0;34m.\u001b[0m\u001b[0mset_title\u001b[0m\u001b[0;34m(\u001b[0m\u001b[0;34m\"Cost vs. iteration\"\u001b[0m\u001b[0;34m)\u001b[0m\u001b[0;34m;\u001b[0m  \u001b[0max2\u001b[0m\u001b[0;34m.\u001b[0m\u001b[0mset_title\u001b[0m\u001b[0;34m(\u001b[0m\u001b[0;34m\"Cost vs. iteration (tail)\"\u001b[0m\u001b[0;34m)\u001b[0m\u001b[0;34m\u001b[0m\u001b[0;34m\u001b[0m\u001b[0m\n",
      "\u001b[0;31mNameError\u001b[0m: name 'J_hist' is not defined"
     ]
    },
    {
     "data": {
      "image/png": "[encoded data removed]",
      "text/plain": [
       "<Figure size 864x288 with 2 Axes>"
      ]
     },
     "metadata": {
      "needs_background": "light"
     },
     "output_type": "display_data"
    }
   ],
   "source": [
    "# plot cost versus iteration  \n",
    "fig, (ax1, ax2) = plt.subplots(1, 2, constrained_layout=True, figsize=(12, 4))\n",
    "ax1.plot(J_hist)\n",
    "ax2.plot(100 + np.arange(len(J_hist[100:])), J_hist[100:])\n",
    "ax1.set_title(\"Cost vs. iteration\");  ax2.set_title(\"Cost vs. iteration (tail)\")\n",
    "ax1.set_ylabel('Cost')             ;  ax2.set_ylabel('Cost') \n",
    "ax1.set_xlabel('iteration step')   ;  ax2.set_xlabel('iteration step') \n",
    "plt.show()"
   ]
  }
 ],
 "metadata": {
  "kernelspec": {
   "display_name": "Python 3.8.5 ('base')",
   "language": "python",
   "name": "python3"
  },
  "language_info": {
   "codemirror_mode": {
    "name": "ipython",
    "version": 3
   },
   "file_extension": ".py",
   "mimetype": "text/x-python",
   "name": "python",
   "nbconvert_exporter": "python",
   "pygments_lexer": "ipython3",
   "version": "3.8.5"
  },
  "orig_nbformat": 4,
  "vscode": {
   "interpreter": {
    "hash": "40d3a090f54c6569ab1632332b64b2c03c39dcf918b08424e98f38b5ae0af88f"
   }
  }
 },
 "nbformat": 4,
 "nbformat_minor": 2
}
